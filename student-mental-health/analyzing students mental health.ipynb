{
 "cells": [
  {
   "cell_type": "markdown",
   "id": "d9e5adbb-e3ba-4046-9ec1-d26e9259d61a",
   "metadata": {},
   "source": [
    "# Analyzing Students' Mental Health in SQL\n",
    "\n",
    "In this live code-along, you'll perform exploratory data analysis on a dataset around mental health of domestic and international students. You'll perform SQL querying to look at how social connectedness and cultural issues affect mental health. Finally, you'll visualize the results of your analysis using the Python Plotly package."
   ]
  },
  {
   "cell_type": "markdown",
   "id": "5760fbc6-8b81-4cca-a439-7ec538dca4b5",
   "metadata": {},
   "source": [
    "## The Data\n",
    "\n",
    "This survey was conducted in 2018 at an international Japanese university and the associated study was published in 2019. It was approved by several ethical and regulatory boards.\n",
    "\n",
    "The study found that international students have a higher risk of mental health difficulties compared to the general population, and that social connectedness and acculturative stress are predictive of depression.\n",
    "\n",
    "Social connectedness: measure of belonging to a social group or network.\n",
    "\n",
    "Acculturative stress: stress associated with learning about and intergrating into a new culture.\n",
    "\n",
    "[See paper for more info, including data description.](https://www.mdpi.com/2306-5729/4/3/124/htm)\n",
    "\n",
    "[Link to the data.](https://www.mdpi.com/2306-5729/4/3/124/s1)"
   ]
  },
  {
   "cell_type": "markdown",
   "id": "ad567b2c-7ae3-4ab7-aed7-7e9cf23a6427",
   "metadata": {},
   "source": [
    "## Inspect the Data\n",
    "\n",
    "Our data is in a table that includes all of the survey data. There are 50 fields and according to the paper, 268 records.    Each row is a student"
   ]
  },
  {
   "cell_type": "markdown",
   "id": "514c7aa7-1137-43e0-8d64-6175fb22ccc4",
   "metadata": {},
   "source": [
    "1. Check if data has 268 records"
   ]
  },
  {
   "cell_type": "code",
   "execution_count": null,
   "id": "a60a4d75-634c-4965-8e01-804780e6df98",
   "metadata": {
    "customType": "sql",
    "dataFrameVariableName": "students",
    "executionCancelledAt": null,
    "executionTime": null,
    "lastExecutedAt": null,
    "lastExecutedByKernel": null,
    "lastScheduledRunId": null,
    "lastSuccessfullyExecutedCode": null,
    "outputsMetadata": {
     "0": {
      "height": 110,
      "type": "dataFrame"
     }
    },
    "sqlCellMode": "dataFrame",
    "sqlSource": {
     "integrationId": "89e17161-a224-4a8a-846b-0adc0fe7a4b1",
     "integrationType": "postgresql",
     "type": "integration"
    },
    "vscode": {
     "languageId": "sql"
    }
   },
   "outputs": [
    {
     "data": {
      "application/com.datacamp.data-table.v2+json": {
       "table": {
        "data": {
         "index": [
          0
         ],
         "total_records": [
          286
         ]
        },
        "schema": {
         "fields": [
          {
           "name": "index",
           "type": "integer"
          },
          {
           "name": "total_records",
           "type": "integer"
          }
         ],
         "pandas_version": "1.4.0",
         "primaryKey": [
          "index"
         ]
        }
       },
       "total_rows": 1,
       "truncation_type": null
      },
      "text/html": [
       "<div>\n",
       "<style scoped>\n",
       "    .dataframe tbody tr th:only-of-type {\n",
       "        vertical-align: middle;\n",
       "    }\n",
       "\n",
       "    .dataframe tbody tr th {\n",
       "        vertical-align: top;\n",
       "    }\n",
       "\n",
       "    .dataframe thead th {\n",
       "        text-align: right;\n",
       "    }\n",
       "</style>\n",
       "<table border=\"1\" class=\"dataframe\">\n",
       "  <thead>\n",
       "    <tr style=\"text-align: right;\">\n",
       "      <th></th>\n",
       "      <th>total_records</th>\n",
       "    </tr>\n",
       "  </thead>\n",
       "  <tbody>\n",
       "    <tr>\n",
       "      <th>0</th>\n",
       "      <td>286</td>\n",
       "    </tr>\n",
       "  </tbody>\n",
       "</table>\n",
       "</div>"
      ],
      "text/plain": [
       "   total_records\n",
       "0            286"
      ]
     },
     "execution_count": 1,
     "metadata": {},
     "output_type": "execute_result"
    }
   ],
   "source": [
    "-- Count the number of records in the data\n",
    "SELECT COUNT(*) AS total_records \n",
    "FROM students;"
   ]
  },
  {
   "cell_type": "markdown",
   "id": "4c18f3be-3945-485d-b8a5-42baf1b5d88a",
   "metadata": {},
   "source": [
    "2. Inspect the dataset to see what the fields look like"
   ]
  },
  {
   "cell_type": "code",
   "execution_count": 10,
   "id": "958ca3e0-b580-4146-9ec6-aa4a7b54ead2",
   "metadata": {
    "customType": "sql",
    "dataFrameVariableName": "df1",
    "executionCancelledAt": null,
    "executionTime": 1219,
    "lastExecutedAt": 1732251385734,
    "lastExecutedByKernel": "c67517d6-7411-4e0e-aeca-cb379896e3f1",
    "lastScheduledRunId": null,
    "lastSuccessfullyExecutedCode": "-- Inspect the data and limit the output to 5 records\nSELECT *\nFROM students\nLIMIT 5;",
    "outputsMetadata": {
     "0": {
      "height": 239,
      "type": "dataFrame"
     }
    },
    "sqlCellMode": "dataFrame",
    "sqlSource": {
     "integrationId": "89e17161-a224-4a8a-846b-0adc0fe7a4b1",
     "integrationType": "postgresql",
     "type": "integration"
    }
   },
   "outputs": [
    {
     "data": {
      "application/com.datacamp.data-table.v2+json": {
       "table": {
        "data": {
         "academic": [
          "Grad",
          "Grad",
          "Grad",
          "Grad",
          "Grad"
         ],
         "acs": [
          11,
          3,
          4,
          6,
          7
         ],
         "afear": [
          8,
          4,
          6,
          8,
          8
         ],
         "age": [
          24,
          28,
          25,
          29,
          28
         ],
         "age_cate": [
          4,
          5,
          4,
          5,
          5
         ],
         "aguilt": [
          2,
          2,
          3,
          4,
          4
         ],
         "ahome": [
          9,
          7,
          4,
          10,
          12
         ],
         "alone": [
          3,
          1,
          1,
          4,
          4
         ],
         "alone_bi": [
          "No",
          "No",
          "No",
          "No",
          "No"
         ],
         "amiscell": [
          27,
          10,
          14,
          21,
          31
         ],
         "apd": [
          23,
          8,
          13,
          16,
          15
         ],
         "aph": [
          11,
          5,
          7,
          10,
          5
         ],
         "dep": [
          "No",
          "No",
          "No",
          "No",
          "No"
         ],
         "depsev": [
          "Min",
          "Min",
          "Min",
          "Min",
          "Min"
         ],
         "deptype": [
          "No",
          "No",
          "No",
          "No",
          "No"
         ],
         "doctor": [
          4,
          4,
          1,
          2,
          5
         ],
         "doctor_bi": [
          "No",
          "No",
          "No",
          "No",
          "Yes"
         ],
         "english": [
          5,
          4,
          4,
          3,
          3
         ],
         "english_cate": [
          "High",
          "High",
          "High",
          "Average",
          "Average"
         ],
         "friends": [
          5,
          7,
          3,
          5,
          5
         ],
         "friends_bi": [
          "Yes",
          "Yes",
          "No",
          "Yes",
          "Yes"
         ],
         "gender": [
          "Male",
          "Male",
          "Male",
          "Female",
          "Female"
         ],
         "index": [
          0,
          1,
          2,
          3,
          4
         ],
         "inter_dom": [
          "Inter",
          "Inter",
          "Inter",
          "Inter",
          "Inter"
         ],
         "internet": [
          null,
          null,
          null,
          null,
          null
         ],
         "internet_bi": [
          "No",
          "No",
          "No",
          "No",
          "No"
         ],
         "intimate": [
          "",
          "",
          "Yes",
          "No",
          "Yes"
         ],
         "japanese": [
          3,
          4,
          4,
          2,
          1
         ],
         "japanese_cate": [
          "Average",
          "High",
          "High",
          "Low",
          "Low"
         ],
         "others": [
          4,
          1,
          1,
          4,
          4
         ],
         "others_bi": [
          "No",
          "No",
          "No",
          "No",
          "No"
         ],
         "parents": [
          6,
          7,
          3,
          5,
          5
         ],
         "parents_bi": [
          "Yes",
          "Yes",
          "No",
          "Yes",
          "Yes"
         ],
         "partner": [
          5,
          7,
          3,
          5,
          5
         ],
         "partner_bi": [
          "Yes",
          "Yes",
          "No",
          "Yes",
          "Yes"
         ],
         "phone": [
          1,
          4,
          2,
          2,
          2
         ],
         "phone_bi": [
          "No",
          "No",
          "No",
          "No",
          "No"
         ],
         "profess": [
          2,
          4,
          1,
          5,
          5
         ],
         "professional_bi": [
          "No",
          "No",
          "No",
          "Yes",
          "Yes"
         ],
         "region": [
          "SEA",
          "SEA",
          "SEA",
          "EA",
          "EA"
         ],
         "relative": [
          3,
          4,
          1,
          5,
          2
         ],
         "relative_bi": [
          "No",
          "No",
          "No",
          "Yes",
          "No"
         ],
         "reli": [
          1,
          1,
          1,
          2,
          5
         ],
         "religion": [
          "Yes",
          "No",
          "Yes",
          "No",
          "No"
         ],
         "religion_bi": [
          "No",
          "No",
          "No",
          "No",
          "Yes"
         ],
         "stay": [
          5,
          1,
          6,
          1,
          1
         ],
         "stay_cate": [
          "Long",
          "Short",
          "Long",
          "Short",
          "Short"
         ],
         "suicide": [
          "No",
          "No",
          "No",
          "No",
          "No"
         ],
         "toas": [
          91,
          39,
          51,
          75,
          82
         ],
         "todep": [
          0,
          2,
          2,
          3,
          3
         ],
         "tosc": [
          34,
          48,
          41,
          37,
          37
         ]
        },
        "schema": {
         "fields": [
          {
           "name": "index",
           "type": "integer"
          },
          {
           "name": "inter_dom",
           "type": "string"
          },
          {
           "name": "region",
           "type": "string"
          },
          {
           "name": "gender",
           "type": "string"
          },
          {
           "name": "academic",
           "type": "string"
          },
          {
           "name": "age",
           "type": "integer"
          },
          {
           "name": "age_cate",
           "type": "integer"
          },
          {
           "name": "stay",
           "type": "integer"
          },
          {
           "name": "stay_cate",
           "type": "string"
          },
          {
           "name": "japanese",
           "type": "integer"
          },
          {
           "name": "japanese_cate",
           "type": "string"
          },
          {
           "name": "english",
           "type": "integer"
          },
          {
           "name": "english_cate",
           "type": "string"
          },
          {
           "name": "intimate",
           "type": "string"
          },
          {
           "name": "religion",
           "type": "string"
          },
          {
           "name": "suicide",
           "type": "string"
          },
          {
           "name": "dep",
           "type": "string"
          },
          {
           "name": "deptype",
           "type": "string"
          },
          {
           "name": "todep",
           "type": "integer"
          },
          {
           "name": "depsev",
           "type": "string"
          },
          {
           "name": "tosc",
           "type": "integer"
          },
          {
           "name": "apd",
           "type": "integer"
          },
          {
           "name": "ahome",
           "type": "integer"
          },
          {
           "name": "aph",
           "type": "integer"
          },
          {
           "name": "afear",
           "type": "integer"
          },
          {
           "name": "acs",
           "type": "integer"
          },
          {
           "name": "aguilt",
           "type": "integer"
          },
          {
           "name": "amiscell",
           "type": "integer"
          },
          {
           "name": "toas",
           "type": "integer"
          },
          {
           "name": "partner",
           "type": "integer"
          },
          {
           "name": "friends",
           "type": "integer"
          },
          {
           "name": "parents",
           "type": "integer"
          },
          {
           "name": "relative",
           "type": "integer"
          },
          {
           "name": "profess",
           "type": "integer"
          },
          {
           "name": "phone",
           "type": "integer"
          },
          {
           "name": "doctor",
           "type": "integer"
          },
          {
           "name": "reli",
           "type": "integer"
          },
          {
           "name": "alone",
           "type": "integer"
          },
          {
           "name": "others",
           "type": "integer"
          },
          {
           "name": "internet",
           "type": "number"
          },
          {
           "name": "partner_bi",
           "type": "string"
          },
          {
           "name": "friends_bi",
           "type": "string"
          },
          {
           "name": "parents_bi",
           "type": "string"
          },
          {
           "name": "relative_bi",
           "type": "string"
          },
          {
           "name": "professional_bi",
           "type": "string"
          },
          {
           "name": "phone_bi",
           "type": "string"
          },
          {
           "name": "doctor_bi",
           "type": "string"
          },
          {
           "name": "religion_bi",
           "type": "string"
          },
          {
           "name": "alone_bi",
           "type": "string"
          },
          {
           "name": "others_bi",
           "type": "string"
          },
          {
           "name": "internet_bi",
           "type": "string"
          }
         ],
         "pandas_version": "1.4.0",
         "primaryKey": [
          "index"
         ]
        }
       },
       "total_rows": 5,
       "truncation_type": null
      },
      "text/html": [
       "<div>\n",
       "<style scoped>\n",
       "    .dataframe tbody tr th:only-of-type {\n",
       "        vertical-align: middle;\n",
       "    }\n",
       "\n",
       "    .dataframe tbody tr th {\n",
       "        vertical-align: top;\n",
       "    }\n",
       "\n",
       "    .dataframe thead th {\n",
       "        text-align: right;\n",
       "    }\n",
       "</style>\n",
       "<table border=\"1\" class=\"dataframe\">\n",
       "  <thead>\n",
       "    <tr style=\"text-align: right;\">\n",
       "      <th></th>\n",
       "      <th>inter_dom</th>\n",
       "      <th>region</th>\n",
       "      <th>gender</th>\n",
       "      <th>academic</th>\n",
       "      <th>age</th>\n",
       "      <th>age_cate</th>\n",
       "      <th>stay</th>\n",
       "      <th>stay_cate</th>\n",
       "      <th>japanese</th>\n",
       "      <th>japanese_cate</th>\n",
       "      <th>english</th>\n",
       "      <th>english_cate</th>\n",
       "      <th>intimate</th>\n",
       "      <th>religion</th>\n",
       "      <th>suicide</th>\n",
       "      <th>dep</th>\n",
       "      <th>deptype</th>\n",
       "      <th>todep</th>\n",
       "      <th>depsev</th>\n",
       "      <th>tosc</th>\n",
       "      <th>apd</th>\n",
       "      <th>ahome</th>\n",
       "      <th>aph</th>\n",
       "      <th>afear</th>\n",
       "      <th>acs</th>\n",
       "      <th>aguilt</th>\n",
       "      <th>amiscell</th>\n",
       "      <th>toas</th>\n",
       "      <th>partner</th>\n",
       "      <th>friends</th>\n",
       "      <th>parents</th>\n",
       "      <th>relative</th>\n",
       "      <th>profess</th>\n",
       "      <th>phone</th>\n",
       "      <th>doctor</th>\n",
       "      <th>reli</th>\n",
       "      <th>alone</th>\n",
       "      <th>others</th>\n",
       "      <th>internet</th>\n",
       "      <th>partner_bi</th>\n",
       "      <th>friends_bi</th>\n",
       "      <th>parents_bi</th>\n",
       "      <th>relative_bi</th>\n",
       "      <th>professional_bi</th>\n",
       "      <th>phone_bi</th>\n",
       "      <th>doctor_bi</th>\n",
       "      <th>religion_bi</th>\n",
       "      <th>alone_bi</th>\n",
       "      <th>others_bi</th>\n",
       "      <th>internet_bi</th>\n",
       "    </tr>\n",
       "  </thead>\n",
       "  <tbody>\n",
       "    <tr>\n",
       "      <th>0</th>\n",
       "      <td>Inter</td>\n",
       "      <td>SEA</td>\n",
       "      <td>Male</td>\n",
       "      <td>Grad</td>\n",
       "      <td>24</td>\n",
       "      <td>4</td>\n",
       "      <td>5</td>\n",
       "      <td>Long</td>\n",
       "      <td>3</td>\n",
       "      <td>Average</td>\n",
       "      <td>5</td>\n",
       "      <td>High</td>\n",
       "      <td></td>\n",
       "      <td>Yes</td>\n",
       "      <td>No</td>\n",
       "      <td>No</td>\n",
       "      <td>No</td>\n",
       "      <td>0</td>\n",
       "      <td>Min</td>\n",
       "      <td>34</td>\n",
       "      <td>23</td>\n",
       "      <td>9</td>\n",
       "      <td>11</td>\n",
       "      <td>8</td>\n",
       "      <td>11</td>\n",
       "      <td>2</td>\n",
       "      <td>27</td>\n",
       "      <td>91</td>\n",
       "      <td>5</td>\n",
       "      <td>5</td>\n",
       "      <td>6</td>\n",
       "      <td>3</td>\n",
       "      <td>2</td>\n",
       "      <td>1</td>\n",
       "      <td>4</td>\n",
       "      <td>1</td>\n",
       "      <td>3</td>\n",
       "      <td>4</td>\n",
       "      <td>NaN</td>\n",
       "      <td>Yes</td>\n",
       "      <td>Yes</td>\n",
       "      <td>Yes</td>\n",
       "      <td>No</td>\n",
       "      <td>No</td>\n",
       "      <td>No</td>\n",
       "      <td>No</td>\n",
       "      <td>No</td>\n",
       "      <td>No</td>\n",
       "      <td>No</td>\n",
       "      <td>No</td>\n",
       "    </tr>\n",
       "    <tr>\n",
       "      <th>1</th>\n",
       "      <td>Inter</td>\n",
       "      <td>SEA</td>\n",
       "      <td>Male</td>\n",
       "      <td>Grad</td>\n",
       "      <td>28</td>\n",
       "      <td>5</td>\n",
       "      <td>1</td>\n",
       "      <td>Short</td>\n",
       "      <td>4</td>\n",
       "      <td>High</td>\n",
       "      <td>4</td>\n",
       "      <td>High</td>\n",
       "      <td></td>\n",
       "      <td>No</td>\n",
       "      <td>No</td>\n",
       "      <td>No</td>\n",
       "      <td>No</td>\n",
       "      <td>2</td>\n",
       "      <td>Min</td>\n",
       "      <td>48</td>\n",
       "      <td>8</td>\n",
       "      <td>7</td>\n",
       "      <td>5</td>\n",
       "      <td>4</td>\n",
       "      <td>3</td>\n",
       "      <td>2</td>\n",
       "      <td>10</td>\n",
       "      <td>39</td>\n",
       "      <td>7</td>\n",
       "      <td>7</td>\n",
       "      <td>7</td>\n",
       "      <td>4</td>\n",
       "      <td>4</td>\n",
       "      <td>4</td>\n",
       "      <td>4</td>\n",
       "      <td>1</td>\n",
       "      <td>1</td>\n",
       "      <td>1</td>\n",
       "      <td>NaN</td>\n",
       "      <td>Yes</td>\n",
       "      <td>Yes</td>\n",
       "      <td>Yes</td>\n",
       "      <td>No</td>\n",
       "      <td>No</td>\n",
       "      <td>No</td>\n",
       "      <td>No</td>\n",
       "      <td>No</td>\n",
       "      <td>No</td>\n",
       "      <td>No</td>\n",
       "      <td>No</td>\n",
       "    </tr>\n",
       "    <tr>\n",
       "      <th>2</th>\n",
       "      <td>Inter</td>\n",
       "      <td>SEA</td>\n",
       "      <td>Male</td>\n",
       "      <td>Grad</td>\n",
       "      <td>25</td>\n",
       "      <td>4</td>\n",
       "      <td>6</td>\n",
       "      <td>Long</td>\n",
       "      <td>4</td>\n",
       "      <td>High</td>\n",
       "      <td>4</td>\n",
       "      <td>High</td>\n",
       "      <td>Yes</td>\n",
       "      <td>Yes</td>\n",
       "      <td>No</td>\n",
       "      <td>No</td>\n",
       "      <td>No</td>\n",
       "      <td>2</td>\n",
       "      <td>Min</td>\n",
       "      <td>41</td>\n",
       "      <td>13</td>\n",
       "      <td>4</td>\n",
       "      <td>7</td>\n",
       "      <td>6</td>\n",
       "      <td>4</td>\n",
       "      <td>3</td>\n",
       "      <td>14</td>\n",
       "      <td>51</td>\n",
       "      <td>3</td>\n",
       "      <td>3</td>\n",
       "      <td>3</td>\n",
       "      <td>1</td>\n",
       "      <td>1</td>\n",
       "      <td>2</td>\n",
       "      <td>1</td>\n",
       "      <td>1</td>\n",
       "      <td>1</td>\n",
       "      <td>1</td>\n",
       "      <td>NaN</td>\n",
       "      <td>No</td>\n",
       "      <td>No</td>\n",
       "      <td>No</td>\n",
       "      <td>No</td>\n",
       "      <td>No</td>\n",
       "      <td>No</td>\n",
       "      <td>No</td>\n",
       "      <td>No</td>\n",
       "      <td>No</td>\n",
       "      <td>No</td>\n",
       "      <td>No</td>\n",
       "    </tr>\n",
       "    <tr>\n",
       "      <th>3</th>\n",
       "      <td>Inter</td>\n",
       "      <td>EA</td>\n",
       "      <td>Female</td>\n",
       "      <td>Grad</td>\n",
       "      <td>29</td>\n",
       "      <td>5</td>\n",
       "      <td>1</td>\n",
       "      <td>Short</td>\n",
       "      <td>2</td>\n",
       "      <td>Low</td>\n",
       "      <td>3</td>\n",
       "      <td>Average</td>\n",
       "      <td>No</td>\n",
       "      <td>No</td>\n",
       "      <td>No</td>\n",
       "      <td>No</td>\n",
       "      <td>No</td>\n",
       "      <td>3</td>\n",
       "      <td>Min</td>\n",
       "      <td>37</td>\n",
       "      <td>16</td>\n",
       "      <td>10</td>\n",
       "      <td>10</td>\n",
       "      <td>8</td>\n",
       "      <td>6</td>\n",
       "      <td>4</td>\n",
       "      <td>21</td>\n",
       "      <td>75</td>\n",
       "      <td>5</td>\n",
       "      <td>5</td>\n",
       "      <td>5</td>\n",
       "      <td>5</td>\n",
       "      <td>5</td>\n",
       "      <td>2</td>\n",
       "      <td>2</td>\n",
       "      <td>2</td>\n",
       "      <td>4</td>\n",
       "      <td>4</td>\n",
       "      <td>NaN</td>\n",
       "      <td>Yes</td>\n",
       "      <td>Yes</td>\n",
       "      <td>Yes</td>\n",
       "      <td>Yes</td>\n",
       "      <td>Yes</td>\n",
       "      <td>No</td>\n",
       "      <td>No</td>\n",
       "      <td>No</td>\n",
       "      <td>No</td>\n",
       "      <td>No</td>\n",
       "      <td>No</td>\n",
       "    </tr>\n",
       "    <tr>\n",
       "      <th>4</th>\n",
       "      <td>Inter</td>\n",
       "      <td>EA</td>\n",
       "      <td>Female</td>\n",
       "      <td>Grad</td>\n",
       "      <td>28</td>\n",
       "      <td>5</td>\n",
       "      <td>1</td>\n",
       "      <td>Short</td>\n",
       "      <td>1</td>\n",
       "      <td>Low</td>\n",
       "      <td>3</td>\n",
       "      <td>Average</td>\n",
       "      <td>Yes</td>\n",
       "      <td>No</td>\n",
       "      <td>No</td>\n",
       "      <td>No</td>\n",
       "      <td>No</td>\n",
       "      <td>3</td>\n",
       "      <td>Min</td>\n",
       "      <td>37</td>\n",
       "      <td>15</td>\n",
       "      <td>12</td>\n",
       "      <td>5</td>\n",
       "      <td>8</td>\n",
       "      <td>7</td>\n",
       "      <td>4</td>\n",
       "      <td>31</td>\n",
       "      <td>82</td>\n",
       "      <td>5</td>\n",
       "      <td>5</td>\n",
       "      <td>5</td>\n",
       "      <td>2</td>\n",
       "      <td>5</td>\n",
       "      <td>2</td>\n",
       "      <td>5</td>\n",
       "      <td>5</td>\n",
       "      <td>4</td>\n",
       "      <td>4</td>\n",
       "      <td>NaN</td>\n",
       "      <td>Yes</td>\n",
       "      <td>Yes</td>\n",
       "      <td>Yes</td>\n",
       "      <td>No</td>\n",
       "      <td>Yes</td>\n",
       "      <td>No</td>\n",
       "      <td>Yes</td>\n",
       "      <td>Yes</td>\n",
       "      <td>No</td>\n",
       "      <td>No</td>\n",
       "      <td>No</td>\n",
       "    </tr>\n",
       "  </tbody>\n",
       "</table>\n",
       "</div>"
      ],
      "text/plain": [
       "  inter_dom region  gender academic  ...  religion_bi  alone_bi  others_bi internet_bi\n",
       "0     Inter    SEA    Male     Grad  ...           No        No         No          No\n",
       "1     Inter    SEA    Male     Grad  ...           No        No         No          No\n",
       "2     Inter    SEA    Male     Grad  ...           No        No         No          No\n",
       "3     Inter     EA  Female     Grad  ...           No        No         No          No\n",
       "4     Inter     EA  Female     Grad  ...          Yes        No         No          No\n",
       "\n",
       "[5 rows x 50 columns]"
      ]
     },
     "execution_count": 10,
     "metadata": {},
     "output_type": "execute_result"
    }
   ],
   "source": [
    "-- Inspect the data and limit the output to 5 records\n",
    "SELECT *\n",
    "FROM students\n",
    "LIMIT 5;"
   ]
  },
  {
   "cell_type": "markdown",
   "id": "80c353fc-5814-4bb2-b8a8-33ee0e7a1679",
   "metadata": {},
   "source": [
    "3. How many international and domestic students are in teh data set?"
   ]
  },
  {
   "cell_type": "code",
   "execution_count": 3,
   "id": "aec14315-1981-47e8-8745-3d490dccffb1",
   "metadata": {
    "customType": "sql",
    "dataFrameVariableName": "data",
    "executionCancelledAt": null,
    "executionTime": null,
    "lastExecutedAt": null,
    "lastExecutedByKernel": null,
    "lastScheduledRunId": null,
    "lastSuccessfullyExecutedCode": null,
    "outputsMetadata": {
     "0": {
      "height": 166,
      "type": "dataFrame"
     }
    },
    "sqlCellMode": "dataFrame",
    "sqlSource": {
     "integrationId": "89e17161-a224-4a8a-846b-0adc0fe7a4b1",
     "integrationType": "postgresql",
     "type": "integration"
    }
   },
   "outputs": [
    {
     "data": {
      "application/com.datacamp.data-table.v2+json": {
       "table": {
        "data": {
         "cout_inter_dom": [
          67,
          18,
          201
         ],
         "index": [
          0,
          1,
          2
         ],
         "inter_dom": [
          "Dom",
          "",
          "Inter"
         ]
        },
        "schema": {
         "fields": [
          {
           "name": "index",
           "type": "integer"
          },
          {
           "name": "inter_dom",
           "type": "string"
          },
          {
           "name": "cout_inter_dom",
           "type": "integer"
          }
         ],
         "pandas_version": "1.4.0",
         "primaryKey": [
          "index"
         ]
        }
       },
       "total_rows": 3,
       "truncation_type": null
      },
      "text/html": [
       "<div>\n",
       "<style scoped>\n",
       "    .dataframe tbody tr th:only-of-type {\n",
       "        vertical-align: middle;\n",
       "    }\n",
       "\n",
       "    .dataframe tbody tr th {\n",
       "        vertical-align: top;\n",
       "    }\n",
       "\n",
       "    .dataframe thead th {\n",
       "        text-align: right;\n",
       "    }\n",
       "</style>\n",
       "<table border=\"1\" class=\"dataframe\">\n",
       "  <thead>\n",
       "    <tr style=\"text-align: right;\">\n",
       "      <th></th>\n",
       "      <th>inter_dom</th>\n",
       "      <th>cout_inter_dom</th>\n",
       "    </tr>\n",
       "  </thead>\n",
       "  <tbody>\n",
       "    <tr>\n",
       "      <th>0</th>\n",
       "      <td>Dom</td>\n",
       "      <td>67</td>\n",
       "    </tr>\n",
       "    <tr>\n",
       "      <th>1</th>\n",
       "      <td></td>\n",
       "      <td>18</td>\n",
       "    </tr>\n",
       "    <tr>\n",
       "      <th>2</th>\n",
       "      <td>Inter</td>\n",
       "      <td>201</td>\n",
       "    </tr>\n",
       "  </tbody>\n",
       "</table>\n",
       "</div>"
      ],
      "text/plain": [
       "  inter_dom  cout_inter_dom\n",
       "0       Dom              67\n",
       "1                        18\n",
       "2     Inter             201"
      ]
     },
     "execution_count": 3,
     "metadata": {},
     "output_type": "execute_result"
    }
   ],
   "source": [
    "-- Count the number of international and domestic stundets\n",
    "SELECT inter_dom, COUNT(inter_dom) AS cout_inter_dom\n",
    "FROM students\n",
    "GROUP BY inter_dom"
   ]
  },
  {
   "cell_type": "markdown",
   "id": "848588d1-f49a-4361-98a4-55841c1e27a2",
   "metadata": {},
   "source": [
    "4. Looking into the 18 unsassigned rows to understand what they could be."
   ]
  },
  {
   "cell_type": "code",
   "execution_count": 4,
   "id": "80df08ce-eb2d-438d-b9ef-bda318188a30",
   "metadata": {
    "chartConfig": {
     "bar": {
      "hasRoundedCorners": true,
      "stacked": false
     },
     "type": "bar",
     "version": "v1"
    },
    "customType": "sql",
    "dataFrameVariableName": "df3",
    "executionCancelledAt": null,
    "executionTime": null,
    "lastExecutedAt": null,
    "lastExecutedByKernel": null,
    "lastScheduledRunId": null,
    "lastSuccessfullyExecutedCode": null,
    "outputsMetadata": {
     "0": {
      "height": 543,
      "type": "dataFrame"
     }
    },
    "sqlCellMode": "dataFrame",
    "sqlSource": {
     "integrationId": "89e17161-a224-4a8a-846b-0adc0fe7a4b1",
     "integrationType": "postgresql",
     "type": "integration"
    },
    "visualizeDataframe": false
   },
   "outputs": [
    {
     "data": {
      "application/com.datacamp.data-table.v2+json": {
       "table": {
        "data": {
         "academic": [
          null,
          null,
          null,
          null,
          null,
          null,
          null,
          null,
          null,
          null,
          null,
          null,
          null,
          null,
          null,
          null,
          null,
          null
         ],
         "acs": [
          null,
          null,
          null,
          null,
          null,
          null,
          null,
          null,
          null,
          null,
          null,
          null,
          null,
          null,
          null,
          null,
          null,
          null
         ],
         "afear": [
          null,
          null,
          null,
          null,
          null,
          null,
          null,
          null,
          null,
          null,
          null,
          null,
          null,
          null,
          null,
          null,
          null,
          null
         ],
         "age": [
          null,
          null,
          null,
          null,
          null,
          null,
          null,
          null,
          null,
          null,
          null,
          null,
          null,
          null,
          null,
          null,
          null,
          null
         ],
         "age_cate": [
          null,
          null,
          null,
          null,
          null,
          null,
          null,
          null,
          null,
          null,
          null,
          null,
          null,
          null,
          null,
          null,
          null,
          null
         ],
         "aguilt": [
          null,
          null,
          null,
          null,
          null,
          null,
          null,
          null,
          null,
          null,
          null,
          null,
          null,
          null,
          null,
          null,
          null,
          null
         ],
         "ahome": [
          null,
          null,
          null,
          null,
          null,
          null,
          null,
          null,
          null,
          null,
          null,
          null,
          null,
          null,
          null,
          null,
          null,
          null
         ],
         "alone": [
          null,
          null,
          null,
          null,
          null,
          null,
          null,
          null,
          null,
          null,
          null,
          null,
          null,
          null,
          null,
          null,
          null,
          null
         ],
         "alone_bi": [
          null,
          null,
          null,
          null,
          null,
          null,
          65,
          203,
          null,
          65,
          203,
          null,
          null,
          null,
          null,
          null,
          null,
          null
         ],
         "amiscell": [
          null,
          null,
          null,
          null,
          null,
          null,
          null,
          null,
          null,
          null,
          null,
          null,
          null,
          null,
          null,
          null,
          null,
          null
         ],
         "apd": [
          null,
          null,
          null,
          null,
          null,
          null,
          null,
          null,
          null,
          null,
          null,
          null,
          null,
          null,
          null,
          null,
          null,
          null
         ],
         "aph": [
          null,
          null,
          null,
          null,
          null,
          null,
          null,
          null,
          null,
          null,
          null,
          null,
          null,
          null,
          null,
          null,
          null,
          null
         ],
         "dep": [
          null,
          null,
          null,
          null,
          null,
          null,
          96,
          172,
          null,
          null,
          null,
          null,
          null,
          null,
          null,
          null,
          null,
          null
         ],
         "depsev": [
          null,
          null,
          null,
          null,
          null,
          null,
          65,
          107,
          73,
          15,
          8,
          null,
          null,
          null,
          null,
          null,
          null,
          null
         ],
         "deptype": [
          null,
          null,
          null,
          null,
          null,
          null,
          42,
          54,
          172,
          null,
          null,
          null,
          null,
          null,
          null,
          null,
          null,
          null
         ],
         "doctor": [
          null,
          null,
          null,
          null,
          null,
          null,
          null,
          null,
          null,
          null,
          null,
          null,
          null,
          null,
          null,
          null,
          null,
          null
         ],
         "doctor_bi": [
          null,
          null,
          null,
          null,
          null,
          null,
          46,
          222,
          null,
          46,
          222,
          null,
          null,
          null,
          null,
          null,
          null,
          null
         ],
         "english": [
          null,
          null,
          null,
          null,
          null,
          null,
          null,
          null,
          null,
          null,
          null,
          null,
          null,
          null,
          null,
          null,
          null,
          null
         ],
         "english_cate": [
          null,
          null,
          null,
          null,
          null,
          null,
          null,
          null,
          null,
          null,
          null,
          null,
          null,
          null,
          null,
          null,
          null,
          null
         ],
         "friends": [
          null,
          null,
          null,
          null,
          null,
          null,
          null,
          null,
          null,
          null,
          null,
          null,
          null,
          null,
          null,
          null,
          null,
          null
         ],
         "friends_bi": [
          222,
          249,
          203,
          247,
          223,
          null,
          128,
          140,
          null,
          128,
          140,
          null,
          123,
          140,
          131,
          202,
          207,
          238
         ],
         "gender": [
          null,
          null,
          null,
          null,
          null,
          null,
          null,
          null,
          null,
          null,
          null,
          null,
          null,
          null,
          null,
          null,
          null,
          null
         ],
         "index": [
          0,
          1,
          2,
          3,
          4,
          5,
          6,
          7,
          8,
          9,
          10,
          11,
          12,
          13,
          14,
          15,
          16,
          17
         ],
         "inter_dom": [
          null,
          null,
          null,
          null,
          null,
          null,
          null,
          null,
          null,
          null,
          null,
          null,
          null,
          null,
          null,
          null,
          null,
          null
         ],
         "internet": [
          null,
          null,
          null,
          null,
          null,
          null,
          null,
          null,
          null,
          null,
          null,
          null,
          null,
          null,
          null,
          null,
          null,
          null
         ],
         "internet_bi": [
          null,
          null,
          null,
          null,
          null,
          null,
          45,
          223,
          null,
          45,
          223,
          null,
          null,
          null,
          null,
          null,
          null,
          null
         ],
         "intimate": [
          null,
          null,
          null,
          null,
          null,
          null,
          null,
          null,
          null,
          null,
          null,
          null,
          null,
          null,
          null,
          null,
          null,
          null
         ],
         "japanese": [
          null,
          null,
          null,
          null,
          null,
          null,
          null,
          null,
          null,
          null,
          null,
          null,
          null,
          null,
          null,
          null,
          null,
          null
         ],
         "japanese_cate": [
          null,
          null,
          null,
          null,
          null,
          null,
          null,
          null,
          null,
          null,
          null,
          null,
          null,
          null,
          null,
          null,
          null,
          null
         ],
         "others": [
          null,
          null,
          null,
          null,
          null,
          null,
          null,
          null,
          null,
          null,
          null,
          null,
          null,
          null,
          null,
          null,
          null,
          null
         ],
         "others_bi": [
          null,
          null,
          null,
          null,
          null,
          null,
          21,
          247,
          null,
          21,
          247,
          null,
          null,
          null,
          null,
          null,
          null,
          null
         ],
         "parents": [
          null,
          null,
          null,
          null,
          null,
          null,
          null,
          null,
          null,
          null,
          null,
          null,
          null,
          null,
          null,
          null,
          null,
          null
         ],
         "parents_bi": [
          null,
          null,
          null,
          null,
          null,
          null,
          137,
          131,
          null,
          137,
          131,
          null,
          null,
          null,
          null,
          null,
          null,
          null
         ],
         "partner": [
          null,
          null,
          null,
          null,
          null,
          null,
          null,
          null,
          null,
          null,
          null,
          null,
          null,
          null,
          null,
          null,
          null,
          null
         ],
         "partner_bi": [
          46,
          19,
          65,
          21,
          45,
          null,
          145,
          123,
          null,
          145,
          123,
          null,
          145,
          128,
          137,
          66,
          61,
          30
         ],
         "phone": [
          null,
          null,
          null,
          null,
          null,
          null,
          null,
          null,
          null,
          null,
          null,
          null,
          null,
          null,
          null,
          null,
          null,
          null
         ],
         "phone_bi": [
          null,
          null,
          null,
          null,
          null,
          null,
          30,
          238,
          null,
          30,
          238,
          null,
          null,
          null,
          null,
          null,
          null,
          null
         ],
         "profess": [
          null,
          null,
          null,
          null,
          null,
          null,
          null,
          null,
          null,
          null,
          null,
          null,
          null,
          null,
          null,
          null,
          null,
          null
         ],
         "professional_bi": [
          null,
          null,
          null,
          null,
          null,
          null,
          61,
          207,
          null,
          61,
          207,
          null,
          null,
          null,
          null,
          null,
          null,
          null
         ],
         "region": [
          null,
          null,
          null,
          null,
          null,
          null,
          null,
          null,
          null,
          null,
          null,
          null,
          null,
          null,
          null,
          null,
          null,
          null
         ],
         "relative": [
          null,
          null,
          null,
          null,
          null,
          null,
          null,
          null,
          null,
          null,
          null,
          null,
          null,
          null,
          null,
          null,
          null,
          null
         ],
         "relative_bi": [
          null,
          null,
          null,
          null,
          null,
          null,
          66,
          202,
          null,
          66,
          202,
          null,
          null,
          null,
          null,
          null,
          null,
          null
         ],
         "reli": [
          null,
          null,
          null,
          null,
          null,
          null,
          null,
          null,
          null,
          null,
          null,
          null,
          null,
          null,
          null,
          null,
          null,
          null
         ],
         "religion": [
          null,
          null,
          null,
          null,
          null,
          null,
          null,
          null,
          null,
          null,
          null,
          null,
          null,
          null,
          null,
          null,
          null,
          null
         ],
         "religion_bi": [
          null,
          null,
          null,
          null,
          null,
          null,
          19,
          249,
          null,
          19,
          249,
          null,
          null,
          null,
          null,
          null,
          null,
          null
         ],
         "stay": [
          null,
          null,
          null,
          null,
          null,
          null,
          null,
          null,
          null,
          null,
          null,
          null,
          null,
          null,
          null,
          null,
          null,
          null
         ],
         "stay_cate": [
          null,
          null,
          null,
          null,
          null,
          null,
          null,
          null,
          null,
          null,
          null,
          null,
          null,
          null,
          null,
          null,
          null,
          null
         ],
         "suicide": [
          null,
          null,
          null,
          null,
          null,
          null,
          null,
          null,
          null,
          null,
          null,
          null,
          null,
          null,
          null,
          null,
          null,
          null
         ],
         "toas": [
          null,
          null,
          null,
          null,
          null,
          null,
          null,
          null,
          null,
          null,
          null,
          null,
          null,
          null,
          null,
          null,
          null,
          null
         ],
         "todep": [
          null,
          null,
          null,
          null,
          null,
          null,
          null,
          null,
          null,
          null,
          null,
          null,
          null,
          null,
          null,
          null,
          null,
          null
         ],
         "tosc": [
          null,
          null,
          null,
          null,
          null,
          null,
          null,
          null,
          null,
          null,
          null,
          null,
          null,
          null,
          null,
          null,
          null,
          null
         ]
        },
        "schema": {
         "fields": [
          {
           "name": "index",
           "type": "integer"
          },
          {
           "name": "inter_dom",
           "type": "number"
          },
          {
           "name": "region",
           "type": "number"
          },
          {
           "name": "gender",
           "type": "number"
          },
          {
           "name": "academic",
           "type": "number"
          },
          {
           "name": "age",
           "type": "number"
          },
          {
           "name": "age_cate",
           "type": "number"
          },
          {
           "name": "stay",
           "type": "number"
          },
          {
           "name": "stay_cate",
           "type": "number"
          },
          {
           "name": "japanese",
           "type": "number"
          },
          {
           "name": "japanese_cate",
           "type": "number"
          },
          {
           "name": "english",
           "type": "number"
          },
          {
           "name": "english_cate",
           "type": "number"
          },
          {
           "name": "intimate",
           "type": "number"
          },
          {
           "name": "religion",
           "type": "number"
          },
          {
           "name": "suicide",
           "type": "number"
          },
          {
           "name": "dep",
           "type": "number"
          },
          {
           "name": "deptype",
           "type": "number"
          },
          {
           "name": "todep",
           "type": "number"
          },
          {
           "name": "depsev",
           "type": "number"
          },
          {
           "name": "tosc",
           "type": "number"
          },
          {
           "name": "apd",
           "type": "number"
          },
          {
           "name": "ahome",
           "type": "number"
          },
          {
           "name": "aph",
           "type": "number"
          },
          {
           "name": "afear",
           "type": "number"
          },
          {
           "name": "acs",
           "type": "number"
          },
          {
           "name": "aguilt",
           "type": "number"
          },
          {
           "name": "amiscell",
           "type": "number"
          },
          {
           "name": "toas",
           "type": "number"
          },
          {
           "name": "partner",
           "type": "number"
          },
          {
           "name": "friends",
           "type": "number"
          },
          {
           "name": "parents",
           "type": "number"
          },
          {
           "name": "relative",
           "type": "number"
          },
          {
           "name": "profess",
           "type": "number"
          },
          {
           "name": "phone",
           "type": "number"
          },
          {
           "name": "doctor",
           "type": "number"
          },
          {
           "name": "reli",
           "type": "number"
          },
          {
           "name": "alone",
           "type": "number"
          },
          {
           "name": "others",
           "type": "number"
          },
          {
           "name": "internet",
           "type": "number"
          },
          {
           "name": "partner_bi",
           "type": "number"
          },
          {
           "name": "friends_bi",
           "type": "number"
          },
          {
           "name": "parents_bi",
           "type": "number"
          },
          {
           "name": "relative_bi",
           "type": "number"
          },
          {
           "name": "professional_bi",
           "type": "number"
          },
          {
           "name": "phone_bi",
           "type": "number"
          },
          {
           "name": "doctor_bi",
           "type": "number"
          },
          {
           "name": "religion_bi",
           "type": "number"
          },
          {
           "name": "alone_bi",
           "type": "number"
          },
          {
           "name": "others_bi",
           "type": "number"
          },
          {
           "name": "internet_bi",
           "type": "number"
          }
         ],
         "pandas_version": "1.4.0",
         "primaryKey": [
          "index"
         ]
        }
       },
       "total_rows": 18,
       "truncation_type": null
      },
      "text/html": [
       "<div>\n",
       "<style scoped>\n",
       "    .dataframe tbody tr th:only-of-type {\n",
       "        vertical-align: middle;\n",
       "    }\n",
       "\n",
       "    .dataframe tbody tr th {\n",
       "        vertical-align: top;\n",
       "    }\n",
       "\n",
       "    .dataframe thead th {\n",
       "        text-align: right;\n",
       "    }\n",
       "</style>\n",
       "<table border=\"1\" class=\"dataframe\">\n",
       "  <thead>\n",
       "    <tr style=\"text-align: right;\">\n",
       "      <th></th>\n",
       "      <th>inter_dom</th>\n",
       "      <th>region</th>\n",
       "      <th>gender</th>\n",
       "      <th>academic</th>\n",
       "      <th>age</th>\n",
       "      <th>age_cate</th>\n",
       "      <th>stay</th>\n",
       "      <th>stay_cate</th>\n",
       "      <th>japanese</th>\n",
       "      <th>japanese_cate</th>\n",
       "      <th>english</th>\n",
       "      <th>english_cate</th>\n",
       "      <th>intimate</th>\n",
       "      <th>religion</th>\n",
       "      <th>suicide</th>\n",
       "      <th>dep</th>\n",
       "      <th>deptype</th>\n",
       "      <th>todep</th>\n",
       "      <th>depsev</th>\n",
       "      <th>tosc</th>\n",
       "      <th>apd</th>\n",
       "      <th>ahome</th>\n",
       "      <th>aph</th>\n",
       "      <th>afear</th>\n",
       "      <th>acs</th>\n",
       "      <th>aguilt</th>\n",
       "      <th>amiscell</th>\n",
       "      <th>toas</th>\n",
       "      <th>partner</th>\n",
       "      <th>friends</th>\n",
       "      <th>parents</th>\n",
       "      <th>relative</th>\n",
       "      <th>profess</th>\n",
       "      <th>phone</th>\n",
       "      <th>doctor</th>\n",
       "      <th>reli</th>\n",
       "      <th>alone</th>\n",
       "      <th>others</th>\n",
       "      <th>internet</th>\n",
       "      <th>partner_bi</th>\n",
       "      <th>friends_bi</th>\n",
       "      <th>parents_bi</th>\n",
       "      <th>relative_bi</th>\n",
       "      <th>professional_bi</th>\n",
       "      <th>phone_bi</th>\n",
       "      <th>doctor_bi</th>\n",
       "      <th>religion_bi</th>\n",
       "      <th>alone_bi</th>\n",
       "      <th>others_bi</th>\n",
       "      <th>internet_bi</th>\n",
       "    </tr>\n",
       "  </thead>\n",
       "  <tbody>\n",
       "    <tr>\n",
       "      <th>0</th>\n",
       "      <td>NaN</td>\n",
       "      <td>NaN</td>\n",
       "      <td>NaN</td>\n",
       "      <td>NaN</td>\n",
       "      <td>NaN</td>\n",
       "      <td>NaN</td>\n",
       "      <td>NaN</td>\n",
       "      <td>NaN</td>\n",
       "      <td>NaN</td>\n",
       "      <td>NaN</td>\n",
       "      <td>NaN</td>\n",
       "      <td>NaN</td>\n",
       "      <td>NaN</td>\n",
       "      <td>NaN</td>\n",
       "      <td>NaN</td>\n",
       "      <td>NaN</td>\n",
       "      <td>NaN</td>\n",
       "      <td>NaN</td>\n",
       "      <td>NaN</td>\n",
       "      <td>NaN</td>\n",
       "      <td>NaN</td>\n",
       "      <td>NaN</td>\n",
       "      <td>NaN</td>\n",
       "      <td>NaN</td>\n",
       "      <td>NaN</td>\n",
       "      <td>NaN</td>\n",
       "      <td>NaN</td>\n",
       "      <td>NaN</td>\n",
       "      <td>NaN</td>\n",
       "      <td>NaN</td>\n",
       "      <td>NaN</td>\n",
       "      <td>NaN</td>\n",
       "      <td>NaN</td>\n",
       "      <td>NaN</td>\n",
       "      <td>NaN</td>\n",
       "      <td>NaN</td>\n",
       "      <td>NaN</td>\n",
       "      <td>NaN</td>\n",
       "      <td>NaN</td>\n",
       "      <td>46.0</td>\n",
       "      <td>222.0</td>\n",
       "      <td>NaN</td>\n",
       "      <td>NaN</td>\n",
       "      <td>NaN</td>\n",
       "      <td>NaN</td>\n",
       "      <td>NaN</td>\n",
       "      <td>NaN</td>\n",
       "      <td>NaN</td>\n",
       "      <td>NaN</td>\n",
       "      <td>NaN</td>\n",
       "    </tr>\n",
       "    <tr>\n",
       "      <th>1</th>\n",
       "      <td>NaN</td>\n",
       "      <td>NaN</td>\n",
       "      <td>NaN</td>\n",
       "      <td>NaN</td>\n",
       "      <td>NaN</td>\n",
       "      <td>NaN</td>\n",
       "      <td>NaN</td>\n",
       "      <td>NaN</td>\n",
       "      <td>NaN</td>\n",
       "      <td>NaN</td>\n",
       "      <td>NaN</td>\n",
       "      <td>NaN</td>\n",
       "      <td>NaN</td>\n",
       "      <td>NaN</td>\n",
       "      <td>NaN</td>\n",
       "      <td>NaN</td>\n",
       "      <td>NaN</td>\n",
       "      <td>NaN</td>\n",
       "      <td>NaN</td>\n",
       "      <td>NaN</td>\n",
       "      <td>NaN</td>\n",
       "      <td>NaN</td>\n",
       "      <td>NaN</td>\n",
       "      <td>NaN</td>\n",
       "      <td>NaN</td>\n",
       "      <td>NaN</td>\n",
       "      <td>NaN</td>\n",
       "      <td>NaN</td>\n",
       "      <td>NaN</td>\n",
       "      <td>NaN</td>\n",
       "      <td>NaN</td>\n",
       "      <td>NaN</td>\n",
       "      <td>NaN</td>\n",
       "      <td>NaN</td>\n",
       "      <td>NaN</td>\n",
       "      <td>NaN</td>\n",
       "      <td>NaN</td>\n",
       "      <td>NaN</td>\n",
       "      <td>NaN</td>\n",
       "      <td>19.0</td>\n",
       "      <td>249.0</td>\n",
       "      <td>NaN</td>\n",
       "      <td>NaN</td>\n",
       "      <td>NaN</td>\n",
       "      <td>NaN</td>\n",
       "      <td>NaN</td>\n",
       "      <td>NaN</td>\n",
       "      <td>NaN</td>\n",
       "      <td>NaN</td>\n",
       "      <td>NaN</td>\n",
       "    </tr>\n",
       "    <tr>\n",
       "      <th>2</th>\n",
       "      <td>NaN</td>\n",
       "      <td>NaN</td>\n",
       "      <td>NaN</td>\n",
       "      <td>NaN</td>\n",
       "      <td>NaN</td>\n",
       "      <td>NaN</td>\n",
       "      <td>NaN</td>\n",
       "      <td>NaN</td>\n",
       "      <td>NaN</td>\n",
       "      <td>NaN</td>\n",
       "      <td>NaN</td>\n",
       "      <td>NaN</td>\n",
       "      <td>NaN</td>\n",
       "      <td>NaN</td>\n",
       "      <td>NaN</td>\n",
       "      <td>NaN</td>\n",
       "      <td>NaN</td>\n",
       "      <td>NaN</td>\n",
       "      <td>NaN</td>\n",
       "      <td>NaN</td>\n",
       "      <td>NaN</td>\n",
       "      <td>NaN</td>\n",
       "      <td>NaN</td>\n",
       "      <td>NaN</td>\n",
       "      <td>NaN</td>\n",
       "      <td>NaN</td>\n",
       "      <td>NaN</td>\n",
       "      <td>NaN</td>\n",
       "      <td>NaN</td>\n",
       "      <td>NaN</td>\n",
       "      <td>NaN</td>\n",
       "      <td>NaN</td>\n",
       "      <td>NaN</td>\n",
       "      <td>NaN</td>\n",
       "      <td>NaN</td>\n",
       "      <td>NaN</td>\n",
       "      <td>NaN</td>\n",
       "      <td>NaN</td>\n",
       "      <td>NaN</td>\n",
       "      <td>65.0</td>\n",
       "      <td>203.0</td>\n",
       "      <td>NaN</td>\n",
       "      <td>NaN</td>\n",
       "      <td>NaN</td>\n",
       "      <td>NaN</td>\n",
       "      <td>NaN</td>\n",
       "      <td>NaN</td>\n",
       "      <td>NaN</td>\n",
       "      <td>NaN</td>\n",
       "      <td>NaN</td>\n",
       "    </tr>\n",
       "    <tr>\n",
       "      <th>3</th>\n",
       "      <td>NaN</td>\n",
       "      <td>NaN</td>\n",
       "      <td>NaN</td>\n",
       "      <td>NaN</td>\n",
       "      <td>NaN</td>\n",
       "      <td>NaN</td>\n",
       "      <td>NaN</td>\n",
       "      <td>NaN</td>\n",
       "      <td>NaN</td>\n",
       "      <td>NaN</td>\n",
       "      <td>NaN</td>\n",
       "      <td>NaN</td>\n",
       "      <td>NaN</td>\n",
       "      <td>NaN</td>\n",
       "      <td>NaN</td>\n",
       "      <td>NaN</td>\n",
       "      <td>NaN</td>\n",
       "      <td>NaN</td>\n",
       "      <td>NaN</td>\n",
       "      <td>NaN</td>\n",
       "      <td>NaN</td>\n",
       "      <td>NaN</td>\n",
       "      <td>NaN</td>\n",
       "      <td>NaN</td>\n",
       "      <td>NaN</td>\n",
       "      <td>NaN</td>\n",
       "      <td>NaN</td>\n",
       "      <td>NaN</td>\n",
       "      <td>NaN</td>\n",
       "      <td>NaN</td>\n",
       "      <td>NaN</td>\n",
       "      <td>NaN</td>\n",
       "      <td>NaN</td>\n",
       "      <td>NaN</td>\n",
       "      <td>NaN</td>\n",
       "      <td>NaN</td>\n",
       "      <td>NaN</td>\n",
       "      <td>NaN</td>\n",
       "      <td>NaN</td>\n",
       "      <td>21.0</td>\n",
       "      <td>247.0</td>\n",
       "      <td>NaN</td>\n",
       "      <td>NaN</td>\n",
       "      <td>NaN</td>\n",
       "      <td>NaN</td>\n",
       "      <td>NaN</td>\n",
       "      <td>NaN</td>\n",
       "      <td>NaN</td>\n",
       "      <td>NaN</td>\n",
       "      <td>NaN</td>\n",
       "    </tr>\n",
       "    <tr>\n",
       "      <th>4</th>\n",
       "      <td>NaN</td>\n",
       "      <td>NaN</td>\n",
       "      <td>NaN</td>\n",
       "      <td>NaN</td>\n",
       "      <td>NaN</td>\n",
       "      <td>NaN</td>\n",
       "      <td>NaN</td>\n",
       "      <td>NaN</td>\n",
       "      <td>NaN</td>\n",
       "      <td>NaN</td>\n",
       "      <td>NaN</td>\n",
       "      <td>NaN</td>\n",
       "      <td>NaN</td>\n",
       "      <td>NaN</td>\n",
       "      <td>NaN</td>\n",
       "      <td>NaN</td>\n",
       "      <td>NaN</td>\n",
       "      <td>NaN</td>\n",
       "      <td>NaN</td>\n",
       "      <td>NaN</td>\n",
       "      <td>NaN</td>\n",
       "      <td>NaN</td>\n",
       "      <td>NaN</td>\n",
       "      <td>NaN</td>\n",
       "      <td>NaN</td>\n",
       "      <td>NaN</td>\n",
       "      <td>NaN</td>\n",
       "      <td>NaN</td>\n",
       "      <td>NaN</td>\n",
       "      <td>NaN</td>\n",
       "      <td>NaN</td>\n",
       "      <td>NaN</td>\n",
       "      <td>NaN</td>\n",
       "      <td>NaN</td>\n",
       "      <td>NaN</td>\n",
       "      <td>NaN</td>\n",
       "      <td>NaN</td>\n",
       "      <td>NaN</td>\n",
       "      <td>NaN</td>\n",
       "      <td>45.0</td>\n",
       "      <td>223.0</td>\n",
       "      <td>NaN</td>\n",
       "      <td>NaN</td>\n",
       "      <td>NaN</td>\n",
       "      <td>NaN</td>\n",
       "      <td>NaN</td>\n",
       "      <td>NaN</td>\n",
       "      <td>NaN</td>\n",
       "      <td>NaN</td>\n",
       "      <td>NaN</td>\n",
       "    </tr>\n",
       "    <tr>\n",
       "      <th>5</th>\n",
       "      <td>NaN</td>\n",
       "      <td>NaN</td>\n",
       "      <td>NaN</td>\n",
       "      <td>NaN</td>\n",
       "      <td>NaN</td>\n",
       "      <td>NaN</td>\n",
       "      <td>NaN</td>\n",
       "      <td>NaN</td>\n",
       "      <td>NaN</td>\n",
       "      <td>NaN</td>\n",
       "      <td>NaN</td>\n",
       "      <td>NaN</td>\n",
       "      <td>NaN</td>\n",
       "      <td>NaN</td>\n",
       "      <td>NaN</td>\n",
       "      <td>NaN</td>\n",
       "      <td>NaN</td>\n",
       "      <td>NaN</td>\n",
       "      <td>NaN</td>\n",
       "      <td>NaN</td>\n",
       "      <td>NaN</td>\n",
       "      <td>NaN</td>\n",
       "      <td>NaN</td>\n",
       "      <td>NaN</td>\n",
       "      <td>NaN</td>\n",
       "      <td>NaN</td>\n",
       "      <td>NaN</td>\n",
       "      <td>NaN</td>\n",
       "      <td>NaN</td>\n",
       "      <td>NaN</td>\n",
       "      <td>NaN</td>\n",
       "      <td>NaN</td>\n",
       "      <td>NaN</td>\n",
       "      <td>NaN</td>\n",
       "      <td>NaN</td>\n",
       "      <td>NaN</td>\n",
       "      <td>NaN</td>\n",
       "      <td>NaN</td>\n",
       "      <td>NaN</td>\n",
       "      <td>NaN</td>\n",
       "      <td>NaN</td>\n",
       "      <td>NaN</td>\n",
       "      <td>NaN</td>\n",
       "      <td>NaN</td>\n",
       "      <td>NaN</td>\n",
       "      <td>NaN</td>\n",
       "      <td>NaN</td>\n",
       "      <td>NaN</td>\n",
       "      <td>NaN</td>\n",
       "      <td>NaN</td>\n",
       "    </tr>\n",
       "    <tr>\n",
       "      <th>6</th>\n",
       "      <td>NaN</td>\n",
       "      <td>NaN</td>\n",
       "      <td>NaN</td>\n",
       "      <td>NaN</td>\n",
       "      <td>NaN</td>\n",
       "      <td>NaN</td>\n",
       "      <td>NaN</td>\n",
       "      <td>NaN</td>\n",
       "      <td>NaN</td>\n",
       "      <td>NaN</td>\n",
       "      <td>NaN</td>\n",
       "      <td>NaN</td>\n",
       "      <td>NaN</td>\n",
       "      <td>NaN</td>\n",
       "      <td>NaN</td>\n",
       "      <td>96.0</td>\n",
       "      <td>42.0</td>\n",
       "      <td>NaN</td>\n",
       "      <td>65.0</td>\n",
       "      <td>NaN</td>\n",
       "      <td>NaN</td>\n",
       "      <td>NaN</td>\n",
       "      <td>NaN</td>\n",
       "      <td>NaN</td>\n",
       "      <td>NaN</td>\n",
       "      <td>NaN</td>\n",
       "      <td>NaN</td>\n",
       "      <td>NaN</td>\n",
       "      <td>NaN</td>\n",
       "      <td>NaN</td>\n",
       "      <td>NaN</td>\n",
       "      <td>NaN</td>\n",
       "      <td>NaN</td>\n",
       "      <td>NaN</td>\n",
       "      <td>NaN</td>\n",
       "      <td>NaN</td>\n",
       "      <td>NaN</td>\n",
       "      <td>NaN</td>\n",
       "      <td>NaN</td>\n",
       "      <td>145.0</td>\n",
       "      <td>128.0</td>\n",
       "      <td>137.0</td>\n",
       "      <td>66.0</td>\n",
       "      <td>61.0</td>\n",
       "      <td>30.0</td>\n",
       "      <td>46.0</td>\n",
       "      <td>19.0</td>\n",
       "      <td>65.0</td>\n",
       "      <td>21.0</td>\n",
       "      <td>45.0</td>\n",
       "    </tr>\n",
       "    <tr>\n",
       "      <th>7</th>\n",
       "      <td>NaN</td>\n",
       "      <td>NaN</td>\n",
       "      <td>NaN</td>\n",
       "      <td>NaN</td>\n",
       "      <td>NaN</td>\n",
       "      <td>NaN</td>\n",
       "      <td>NaN</td>\n",
       "      <td>NaN</td>\n",
       "      <td>NaN</td>\n",
       "      <td>NaN</td>\n",
       "      <td>NaN</td>\n",
       "      <td>NaN</td>\n",
       "      <td>NaN</td>\n",
       "      <td>NaN</td>\n",
       "      <td>NaN</td>\n",
       "      <td>172.0</td>\n",
       "      <td>54.0</td>\n",
       "      <td>NaN</td>\n",
       "      <td>107.0</td>\n",
       "      <td>NaN</td>\n",
       "      <td>NaN</td>\n",
       "      <td>NaN</td>\n",
       "      <td>NaN</td>\n",
       "      <td>NaN</td>\n",
       "      <td>NaN</td>\n",
       "      <td>NaN</td>\n",
       "      <td>NaN</td>\n",
       "      <td>NaN</td>\n",
       "      <td>NaN</td>\n",
       "      <td>NaN</td>\n",
       "      <td>NaN</td>\n",
       "      <td>NaN</td>\n",
       "      <td>NaN</td>\n",
       "      <td>NaN</td>\n",
       "      <td>NaN</td>\n",
       "      <td>NaN</td>\n",
       "      <td>NaN</td>\n",
       "      <td>NaN</td>\n",
       "      <td>NaN</td>\n",
       "      <td>123.0</td>\n",
       "      <td>140.0</td>\n",
       "      <td>131.0</td>\n",
       "      <td>202.0</td>\n",
       "      <td>207.0</td>\n",
       "      <td>238.0</td>\n",
       "      <td>222.0</td>\n",
       "      <td>249.0</td>\n",
       "      <td>203.0</td>\n",
       "      <td>247.0</td>\n",
       "      <td>223.0</td>\n",
       "    </tr>\n",
       "    <tr>\n",
       "      <th>8</th>\n",
       "      <td>NaN</td>\n",
       "      <td>NaN</td>\n",
       "      <td>NaN</td>\n",
       "      <td>NaN</td>\n",
       "      <td>NaN</td>\n",
       "      <td>NaN</td>\n",
       "      <td>NaN</td>\n",
       "      <td>NaN</td>\n",
       "      <td>NaN</td>\n",
       "      <td>NaN</td>\n",
       "      <td>NaN</td>\n",
       "      <td>NaN</td>\n",
       "      <td>NaN</td>\n",
       "      <td>NaN</td>\n",
       "      <td>NaN</td>\n",
       "      <td>NaN</td>\n",
       "      <td>172.0</td>\n",
       "      <td>NaN</td>\n",
       "      <td>73.0</td>\n",
       "      <td>NaN</td>\n",
       "      <td>NaN</td>\n",
       "      <td>NaN</td>\n",
       "      <td>NaN</td>\n",
       "      <td>NaN</td>\n",
       "      <td>NaN</td>\n",
       "      <td>NaN</td>\n",
       "      <td>NaN</td>\n",
       "      <td>NaN</td>\n",
       "      <td>NaN</td>\n",
       "      <td>NaN</td>\n",
       "      <td>NaN</td>\n",
       "      <td>NaN</td>\n",
       "      <td>NaN</td>\n",
       "      <td>NaN</td>\n",
       "      <td>NaN</td>\n",
       "      <td>NaN</td>\n",
       "      <td>NaN</td>\n",
       "      <td>NaN</td>\n",
       "      <td>NaN</td>\n",
       "      <td>NaN</td>\n",
       "      <td>NaN</td>\n",
       "      <td>NaN</td>\n",
       "      <td>NaN</td>\n",
       "      <td>NaN</td>\n",
       "      <td>NaN</td>\n",
       "      <td>NaN</td>\n",
       "      <td>NaN</td>\n",
       "      <td>NaN</td>\n",
       "      <td>NaN</td>\n",
       "      <td>NaN</td>\n",
       "    </tr>\n",
       "    <tr>\n",
       "      <th>9</th>\n",
       "      <td>NaN</td>\n",
       "      <td>NaN</td>\n",
       "      <td>NaN</td>\n",
       "      <td>NaN</td>\n",
       "      <td>NaN</td>\n",
       "      <td>NaN</td>\n",
       "      <td>NaN</td>\n",
       "      <td>NaN</td>\n",
       "      <td>NaN</td>\n",
       "      <td>NaN</td>\n",
       "      <td>NaN</td>\n",
       "      <td>NaN</td>\n",
       "      <td>NaN</td>\n",
       "      <td>NaN</td>\n",
       "      <td>NaN</td>\n",
       "      <td>NaN</td>\n",
       "      <td>NaN</td>\n",
       "      <td>NaN</td>\n",
       "      <td>15.0</td>\n",
       "      <td>NaN</td>\n",
       "      <td>NaN</td>\n",
       "      <td>NaN</td>\n",
       "      <td>NaN</td>\n",
       "      <td>NaN</td>\n",
       "      <td>NaN</td>\n",
       "      <td>NaN</td>\n",
       "      <td>NaN</td>\n",
       "      <td>NaN</td>\n",
       "      <td>NaN</td>\n",
       "      <td>NaN</td>\n",
       "      <td>NaN</td>\n",
       "      <td>NaN</td>\n",
       "      <td>NaN</td>\n",
       "      <td>NaN</td>\n",
       "      <td>NaN</td>\n",
       "      <td>NaN</td>\n",
       "      <td>NaN</td>\n",
       "      <td>NaN</td>\n",
       "      <td>NaN</td>\n",
       "      <td>145.0</td>\n",
       "      <td>128.0</td>\n",
       "      <td>137.0</td>\n",
       "      <td>66.0</td>\n",
       "      <td>61.0</td>\n",
       "      <td>30.0</td>\n",
       "      <td>46.0</td>\n",
       "      <td>19.0</td>\n",
       "      <td>65.0</td>\n",
       "      <td>21.0</td>\n",
       "      <td>45.0</td>\n",
       "    </tr>\n",
       "    <tr>\n",
       "      <th>10</th>\n",
       "      <td>NaN</td>\n",
       "      <td>NaN</td>\n",
       "      <td>NaN</td>\n",
       "      <td>NaN</td>\n",
       "      <td>NaN</td>\n",
       "      <td>NaN</td>\n",
       "      <td>NaN</td>\n",
       "      <td>NaN</td>\n",
       "      <td>NaN</td>\n",
       "      <td>NaN</td>\n",
       "      <td>NaN</td>\n",
       "      <td>NaN</td>\n",
       "      <td>NaN</td>\n",
       "      <td>NaN</td>\n",
       "      <td>NaN</td>\n",
       "      <td>NaN</td>\n",
       "      <td>NaN</td>\n",
       "      <td>NaN</td>\n",
       "      <td>8.0</td>\n",
       "      <td>NaN</td>\n",
       "      <td>NaN</td>\n",
       "      <td>NaN</td>\n",
       "      <td>NaN</td>\n",
       "      <td>NaN</td>\n",
       "      <td>NaN</td>\n",
       "      <td>NaN</td>\n",
       "      <td>NaN</td>\n",
       "      <td>NaN</td>\n",
       "      <td>NaN</td>\n",
       "      <td>NaN</td>\n",
       "      <td>NaN</td>\n",
       "      <td>NaN</td>\n",
       "      <td>NaN</td>\n",
       "      <td>NaN</td>\n",
       "      <td>NaN</td>\n",
       "      <td>NaN</td>\n",
       "      <td>NaN</td>\n",
       "      <td>NaN</td>\n",
       "      <td>NaN</td>\n",
       "      <td>123.0</td>\n",
       "      <td>140.0</td>\n",
       "      <td>131.0</td>\n",
       "      <td>202.0</td>\n",
       "      <td>207.0</td>\n",
       "      <td>238.0</td>\n",
       "      <td>222.0</td>\n",
       "      <td>249.0</td>\n",
       "      <td>203.0</td>\n",
       "      <td>247.0</td>\n",
       "      <td>223.0</td>\n",
       "    </tr>\n",
       "    <tr>\n",
       "      <th>11</th>\n",
       "      <td>NaN</td>\n",
       "      <td>NaN</td>\n",
       "      <td>NaN</td>\n",
       "      <td>NaN</td>\n",
       "      <td>NaN</td>\n",
       "      <td>NaN</td>\n",
       "      <td>NaN</td>\n",
       "      <td>NaN</td>\n",
       "      <td>NaN</td>\n",
       "      <td>NaN</td>\n",
       "      <td>NaN</td>\n",
       "      <td>NaN</td>\n",
       "      <td>NaN</td>\n",
       "      <td>NaN</td>\n",
       "      <td>NaN</td>\n",
       "      <td>NaN</td>\n",
       "      <td>NaN</td>\n",
       "      <td>NaN</td>\n",
       "      <td>NaN</td>\n",
       "      <td>NaN</td>\n",
       "      <td>NaN</td>\n",
       "      <td>NaN</td>\n",
       "      <td>NaN</td>\n",
       "      <td>NaN</td>\n",
       "      <td>NaN</td>\n",
       "      <td>NaN</td>\n",
       "      <td>NaN</td>\n",
       "      <td>NaN</td>\n",
       "      <td>NaN</td>\n",
       "      <td>NaN</td>\n",
       "      <td>NaN</td>\n",
       "      <td>NaN</td>\n",
       "      <td>NaN</td>\n",
       "      <td>NaN</td>\n",
       "      <td>NaN</td>\n",
       "      <td>NaN</td>\n",
       "      <td>NaN</td>\n",
       "      <td>NaN</td>\n",
       "      <td>NaN</td>\n",
       "      <td>NaN</td>\n",
       "      <td>NaN</td>\n",
       "      <td>NaN</td>\n",
       "      <td>NaN</td>\n",
       "      <td>NaN</td>\n",
       "      <td>NaN</td>\n",
       "      <td>NaN</td>\n",
       "      <td>NaN</td>\n",
       "      <td>NaN</td>\n",
       "      <td>NaN</td>\n",
       "      <td>NaN</td>\n",
       "    </tr>\n",
       "    <tr>\n",
       "      <th>12</th>\n",
       "      <td>NaN</td>\n",
       "      <td>NaN</td>\n",
       "      <td>NaN</td>\n",
       "      <td>NaN</td>\n",
       "      <td>NaN</td>\n",
       "      <td>NaN</td>\n",
       "      <td>NaN</td>\n",
       "      <td>NaN</td>\n",
       "      <td>NaN</td>\n",
       "      <td>NaN</td>\n",
       "      <td>NaN</td>\n",
       "      <td>NaN</td>\n",
       "      <td>NaN</td>\n",
       "      <td>NaN</td>\n",
       "      <td>NaN</td>\n",
       "      <td>NaN</td>\n",
       "      <td>NaN</td>\n",
       "      <td>NaN</td>\n",
       "      <td>NaN</td>\n",
       "      <td>NaN</td>\n",
       "      <td>NaN</td>\n",
       "      <td>NaN</td>\n",
       "      <td>NaN</td>\n",
       "      <td>NaN</td>\n",
       "      <td>NaN</td>\n",
       "      <td>NaN</td>\n",
       "      <td>NaN</td>\n",
       "      <td>NaN</td>\n",
       "      <td>NaN</td>\n",
       "      <td>NaN</td>\n",
       "      <td>NaN</td>\n",
       "      <td>NaN</td>\n",
       "      <td>NaN</td>\n",
       "      <td>NaN</td>\n",
       "      <td>NaN</td>\n",
       "      <td>NaN</td>\n",
       "      <td>NaN</td>\n",
       "      <td>NaN</td>\n",
       "      <td>NaN</td>\n",
       "      <td>145.0</td>\n",
       "      <td>123.0</td>\n",
       "      <td>NaN</td>\n",
       "      <td>NaN</td>\n",
       "      <td>NaN</td>\n",
       "      <td>NaN</td>\n",
       "      <td>NaN</td>\n",
       "      <td>NaN</td>\n",
       "      <td>NaN</td>\n",
       "      <td>NaN</td>\n",
       "      <td>NaN</td>\n",
       "    </tr>\n",
       "    <tr>\n",
       "      <th>13</th>\n",
       "      <td>NaN</td>\n",
       "      <td>NaN</td>\n",
       "      <td>NaN</td>\n",
       "      <td>NaN</td>\n",
       "      <td>NaN</td>\n",
       "      <td>NaN</td>\n",
       "      <td>NaN</td>\n",
       "      <td>NaN</td>\n",
       "      <td>NaN</td>\n",
       "      <td>NaN</td>\n",
       "      <td>NaN</td>\n",
       "      <td>NaN</td>\n",
       "      <td>NaN</td>\n",
       "      <td>NaN</td>\n",
       "      <td>NaN</td>\n",
       "      <td>NaN</td>\n",
       "      <td>NaN</td>\n",
       "      <td>NaN</td>\n",
       "      <td>NaN</td>\n",
       "      <td>NaN</td>\n",
       "      <td>NaN</td>\n",
       "      <td>NaN</td>\n",
       "      <td>NaN</td>\n",
       "      <td>NaN</td>\n",
       "      <td>NaN</td>\n",
       "      <td>NaN</td>\n",
       "      <td>NaN</td>\n",
       "      <td>NaN</td>\n",
       "      <td>NaN</td>\n",
       "      <td>NaN</td>\n",
       "      <td>NaN</td>\n",
       "      <td>NaN</td>\n",
       "      <td>NaN</td>\n",
       "      <td>NaN</td>\n",
       "      <td>NaN</td>\n",
       "      <td>NaN</td>\n",
       "      <td>NaN</td>\n",
       "      <td>NaN</td>\n",
       "      <td>NaN</td>\n",
       "      <td>128.0</td>\n",
       "      <td>140.0</td>\n",
       "      <td>NaN</td>\n",
       "      <td>NaN</td>\n",
       "      <td>NaN</td>\n",
       "      <td>NaN</td>\n",
       "      <td>NaN</td>\n",
       "      <td>NaN</td>\n",
       "      <td>NaN</td>\n",
       "      <td>NaN</td>\n",
       "      <td>NaN</td>\n",
       "    </tr>\n",
       "    <tr>\n",
       "      <th>14</th>\n",
       "      <td>NaN</td>\n",
       "      <td>NaN</td>\n",
       "      <td>NaN</td>\n",
       "      <td>NaN</td>\n",
       "      <td>NaN</td>\n",
       "      <td>NaN</td>\n",
       "      <td>NaN</td>\n",
       "      <td>NaN</td>\n",
       "      <td>NaN</td>\n",
       "      <td>NaN</td>\n",
       "      <td>NaN</td>\n",
       "      <td>NaN</td>\n",
       "      <td>NaN</td>\n",
       "      <td>NaN</td>\n",
       "      <td>NaN</td>\n",
       "      <td>NaN</td>\n",
       "      <td>NaN</td>\n",
       "      <td>NaN</td>\n",
       "      <td>NaN</td>\n",
       "      <td>NaN</td>\n",
       "      <td>NaN</td>\n",
       "      <td>NaN</td>\n",
       "      <td>NaN</td>\n",
       "      <td>NaN</td>\n",
       "      <td>NaN</td>\n",
       "      <td>NaN</td>\n",
       "      <td>NaN</td>\n",
       "      <td>NaN</td>\n",
       "      <td>NaN</td>\n",
       "      <td>NaN</td>\n",
       "      <td>NaN</td>\n",
       "      <td>NaN</td>\n",
       "      <td>NaN</td>\n",
       "      <td>NaN</td>\n",
       "      <td>NaN</td>\n",
       "      <td>NaN</td>\n",
       "      <td>NaN</td>\n",
       "      <td>NaN</td>\n",
       "      <td>NaN</td>\n",
       "      <td>137.0</td>\n",
       "      <td>131.0</td>\n",
       "      <td>NaN</td>\n",
       "      <td>NaN</td>\n",
       "      <td>NaN</td>\n",
       "      <td>NaN</td>\n",
       "      <td>NaN</td>\n",
       "      <td>NaN</td>\n",
       "      <td>NaN</td>\n",
       "      <td>NaN</td>\n",
       "      <td>NaN</td>\n",
       "    </tr>\n",
       "    <tr>\n",
       "      <th>15</th>\n",
       "      <td>NaN</td>\n",
       "      <td>NaN</td>\n",
       "      <td>NaN</td>\n",
       "      <td>NaN</td>\n",
       "      <td>NaN</td>\n",
       "      <td>NaN</td>\n",
       "      <td>NaN</td>\n",
       "      <td>NaN</td>\n",
       "      <td>NaN</td>\n",
       "      <td>NaN</td>\n",
       "      <td>NaN</td>\n",
       "      <td>NaN</td>\n",
       "      <td>NaN</td>\n",
       "      <td>NaN</td>\n",
       "      <td>NaN</td>\n",
       "      <td>NaN</td>\n",
       "      <td>NaN</td>\n",
       "      <td>NaN</td>\n",
       "      <td>NaN</td>\n",
       "      <td>NaN</td>\n",
       "      <td>NaN</td>\n",
       "      <td>NaN</td>\n",
       "      <td>NaN</td>\n",
       "      <td>NaN</td>\n",
       "      <td>NaN</td>\n",
       "      <td>NaN</td>\n",
       "      <td>NaN</td>\n",
       "      <td>NaN</td>\n",
       "      <td>NaN</td>\n",
       "      <td>NaN</td>\n",
       "      <td>NaN</td>\n",
       "      <td>NaN</td>\n",
       "      <td>NaN</td>\n",
       "      <td>NaN</td>\n",
       "      <td>NaN</td>\n",
       "      <td>NaN</td>\n",
       "      <td>NaN</td>\n",
       "      <td>NaN</td>\n",
       "      <td>NaN</td>\n",
       "      <td>66.0</td>\n",
       "      <td>202.0</td>\n",
       "      <td>NaN</td>\n",
       "      <td>NaN</td>\n",
       "      <td>NaN</td>\n",
       "      <td>NaN</td>\n",
       "      <td>NaN</td>\n",
       "      <td>NaN</td>\n",
       "      <td>NaN</td>\n",
       "      <td>NaN</td>\n",
       "      <td>NaN</td>\n",
       "    </tr>\n",
       "    <tr>\n",
       "      <th>16</th>\n",
       "      <td>NaN</td>\n",
       "      <td>NaN</td>\n",
       "      <td>NaN</td>\n",
       "      <td>NaN</td>\n",
       "      <td>NaN</td>\n",
       "      <td>NaN</td>\n",
       "      <td>NaN</td>\n",
       "      <td>NaN</td>\n",
       "      <td>NaN</td>\n",
       "      <td>NaN</td>\n",
       "      <td>NaN</td>\n",
       "      <td>NaN</td>\n",
       "      <td>NaN</td>\n",
       "      <td>NaN</td>\n",
       "      <td>NaN</td>\n",
       "      <td>NaN</td>\n",
       "      <td>NaN</td>\n",
       "      <td>NaN</td>\n",
       "      <td>NaN</td>\n",
       "      <td>NaN</td>\n",
       "      <td>NaN</td>\n",
       "      <td>NaN</td>\n",
       "      <td>NaN</td>\n",
       "      <td>NaN</td>\n",
       "      <td>NaN</td>\n",
       "      <td>NaN</td>\n",
       "      <td>NaN</td>\n",
       "      <td>NaN</td>\n",
       "      <td>NaN</td>\n",
       "      <td>NaN</td>\n",
       "      <td>NaN</td>\n",
       "      <td>NaN</td>\n",
       "      <td>NaN</td>\n",
       "      <td>NaN</td>\n",
       "      <td>NaN</td>\n",
       "      <td>NaN</td>\n",
       "      <td>NaN</td>\n",
       "      <td>NaN</td>\n",
       "      <td>NaN</td>\n",
       "      <td>61.0</td>\n",
       "      <td>207.0</td>\n",
       "      <td>NaN</td>\n",
       "      <td>NaN</td>\n",
       "      <td>NaN</td>\n",
       "      <td>NaN</td>\n",
       "      <td>NaN</td>\n",
       "      <td>NaN</td>\n",
       "      <td>NaN</td>\n",
       "      <td>NaN</td>\n",
       "      <td>NaN</td>\n",
       "    </tr>\n",
       "    <tr>\n",
       "      <th>17</th>\n",
       "      <td>NaN</td>\n",
       "      <td>NaN</td>\n",
       "      <td>NaN</td>\n",
       "      <td>NaN</td>\n",
       "      <td>NaN</td>\n",
       "      <td>NaN</td>\n",
       "      <td>NaN</td>\n",
       "      <td>NaN</td>\n",
       "      <td>NaN</td>\n",
       "      <td>NaN</td>\n",
       "      <td>NaN</td>\n",
       "      <td>NaN</td>\n",
       "      <td>NaN</td>\n",
       "      <td>NaN</td>\n",
       "      <td>NaN</td>\n",
       "      <td>NaN</td>\n",
       "      <td>NaN</td>\n",
       "      <td>NaN</td>\n",
       "      <td>NaN</td>\n",
       "      <td>NaN</td>\n",
       "      <td>NaN</td>\n",
       "      <td>NaN</td>\n",
       "      <td>NaN</td>\n",
       "      <td>NaN</td>\n",
       "      <td>NaN</td>\n",
       "      <td>NaN</td>\n",
       "      <td>NaN</td>\n",
       "      <td>NaN</td>\n",
       "      <td>NaN</td>\n",
       "      <td>NaN</td>\n",
       "      <td>NaN</td>\n",
       "      <td>NaN</td>\n",
       "      <td>NaN</td>\n",
       "      <td>NaN</td>\n",
       "      <td>NaN</td>\n",
       "      <td>NaN</td>\n",
       "      <td>NaN</td>\n",
       "      <td>NaN</td>\n",
       "      <td>NaN</td>\n",
       "      <td>30.0</td>\n",
       "      <td>238.0</td>\n",
       "      <td>NaN</td>\n",
       "      <td>NaN</td>\n",
       "      <td>NaN</td>\n",
       "      <td>NaN</td>\n",
       "      <td>NaN</td>\n",
       "      <td>NaN</td>\n",
       "      <td>NaN</td>\n",
       "      <td>NaN</td>\n",
       "      <td>NaN</td>\n",
       "    </tr>\n",
       "  </tbody>\n",
       "</table>\n",
       "</div>"
      ],
      "text/plain": [
       "    inter_dom  region  gender  ...  alone_bi  others_bi  internet_bi\n",
       "0         NaN     NaN     NaN  ...       NaN        NaN          NaN\n",
       "1         NaN     NaN     NaN  ...       NaN        NaN          NaN\n",
       "2         NaN     NaN     NaN  ...       NaN        NaN          NaN\n",
       "3         NaN     NaN     NaN  ...       NaN        NaN          NaN\n",
       "4         NaN     NaN     NaN  ...       NaN        NaN          NaN\n",
       "5         NaN     NaN     NaN  ...       NaN        NaN          NaN\n",
       "6         NaN     NaN     NaN  ...      65.0       21.0         45.0\n",
       "7         NaN     NaN     NaN  ...     203.0      247.0        223.0\n",
       "8         NaN     NaN     NaN  ...       NaN        NaN          NaN\n",
       "9         NaN     NaN     NaN  ...      65.0       21.0         45.0\n",
       "10        NaN     NaN     NaN  ...     203.0      247.0        223.0\n",
       "11        NaN     NaN     NaN  ...       NaN        NaN          NaN\n",
       "12        NaN     NaN     NaN  ...       NaN        NaN          NaN\n",
       "13        NaN     NaN     NaN  ...       NaN        NaN          NaN\n",
       "14        NaN     NaN     NaN  ...       NaN        NaN          NaN\n",
       "15        NaN     NaN     NaN  ...       NaN        NaN          NaN\n",
       "16        NaN     NaN     NaN  ...       NaN        NaN          NaN\n",
       "17        NaN     NaN     NaN  ...       NaN        NaN          NaN\n",
       "\n",
       "[18 rows x 50 columns]"
      ]
     },
     "execution_count": 4,
     "metadata": {},
     "output_type": "execute_result"
    }
   ],
   "source": [
    "-- Query data to see all records where inter_dom is neither 'Dom' or 'Inter'\n",
    "Select *\n",
    "FROM students\n",
    "Where inter_dom NOT LIKE 'D%' AND inter_dom NOT LIKE 'I%';"
   ]
  },
  {
   "cell_type": "markdown",
   "id": "694330b8-69f9-4345-a72a-8aca9a44f8fe",
   "metadata": {},
   "source": [
    "5. Where are the international students from?"
   ]
  },
  {
   "cell_type": "code",
   "execution_count": 5,
   "id": "a8a31162-d76b-4b59-a3d4-3684e9cfb362",
   "metadata": {
    "customType": "sql",
    "dataFrameVariableName": "df4",
    "executionCancelledAt": null,
    "executionTime": null,
    "lastExecutedAt": null,
    "lastExecutedByKernel": null,
    "lastScheduledRunId": null,
    "lastSuccessfullyExecutedCode": null,
    "outputsMetadata": {
     "0": {
      "height": 222,
      "type": "dataFrame"
     }
    },
    "sqlCellMode": "dataFrame",
    "sqlSource": {
     "integrationId": "89e17161-a224-4a8a-846b-0adc0fe7a4b1",
     "integrationType": "postgresql",
     "type": "integration"
    }
   },
   "outputs": [
    {
     "data": {
      "application/com.datacamp.data-table.v2+json": {
       "table": {
        "data": {
         "count_inter_dom": [
          18,
          48,
          2,
          11,
          122
         ],
         "index": [
          0,
          1,
          2,
          3,
          4
         ],
         "region": [
          "SA",
          "EA",
          "JAP",
          "Others",
          "SEA"
         ]
        },
        "schema": {
         "fields": [
          {
           "name": "index",
           "type": "integer"
          },
          {
           "name": "region",
           "type": "string"
          },
          {
           "name": "count_inter_dom",
           "type": "integer"
          }
         ],
         "pandas_version": "1.4.0",
         "primaryKey": [
          "index"
         ]
        }
       },
       "total_rows": 5,
       "truncation_type": null
      },
      "text/html": [
       "<div>\n",
       "<style scoped>\n",
       "    .dataframe tbody tr th:only-of-type {\n",
       "        vertical-align: middle;\n",
       "    }\n",
       "\n",
       "    .dataframe tbody tr th {\n",
       "        vertical-align: top;\n",
       "    }\n",
       "\n",
       "    .dataframe thead th {\n",
       "        text-align: right;\n",
       "    }\n",
       "</style>\n",
       "<table border=\"1\" class=\"dataframe\">\n",
       "  <thead>\n",
       "    <tr style=\"text-align: right;\">\n",
       "      <th></th>\n",
       "      <th>region</th>\n",
       "      <th>count_inter_dom</th>\n",
       "    </tr>\n",
       "  </thead>\n",
       "  <tbody>\n",
       "    <tr>\n",
       "      <th>0</th>\n",
       "      <td>SA</td>\n",
       "      <td>18</td>\n",
       "    </tr>\n",
       "    <tr>\n",
       "      <th>1</th>\n",
       "      <td>EA</td>\n",
       "      <td>48</td>\n",
       "    </tr>\n",
       "    <tr>\n",
       "      <th>2</th>\n",
       "      <td>JAP</td>\n",
       "      <td>2</td>\n",
       "    </tr>\n",
       "    <tr>\n",
       "      <th>3</th>\n",
       "      <td>Others</td>\n",
       "      <td>11</td>\n",
       "    </tr>\n",
       "    <tr>\n",
       "      <th>4</th>\n",
       "      <td>SEA</td>\n",
       "      <td>122</td>\n",
       "    </tr>\n",
       "  </tbody>\n",
       "</table>\n",
       "</div>"
      ],
      "text/plain": [
       "   region  count_inter_dom\n",
       "0      SA               18\n",
       "1      EA               48\n",
       "2     JAP                2\n",
       "3  Others               11\n",
       "4     SEA              122"
      ]
     },
     "execution_count": 5,
     "metadata": {},
     "output_type": "execute_result"
    }
   ],
   "source": [
    "-- See what Region international students aer from\n",
    "SELECT \"region\", COUNT(inter_dom) AS count_inter_dom\n",
    "FROM students\n",
    "WHERE inter_dom = 'Inter'\n",
    "GROUP BY \"region\";"
   ]
  },
  {
   "cell_type": "markdown",
   "id": "4525f874-04d9-41a0-841f-32faf7833570",
   "metadata": {},
   "source": [
    "6. Finding the minimum, maximum and average of each of the diagnostic tests(PHQ-9, SCS, ASISS)."
   ]
  },
  {
   "cell_type": "code",
   "execution_count": 6,
   "id": "2e622d51-18bd-43a0-9cc7-bf8d9f93441a",
   "metadata": {
    "customType": "sql",
    "dataFrameVariableName": "df5",
    "executionCancelledAt": null,
    "executionTime": null,
    "lastExecutedAt": null,
    "lastExecutedByKernel": null,
    "lastScheduledRunId": null,
    "lastSuccessfullyExecutedCode": null,
    "outputsMetadata": {
     "0": {
      "height": 127,
      "type": "dataFrame"
     }
    },
    "sqlCellMode": "dataFrame",
    "sqlSource": {
     "integrationId": "89e17161-a224-4a8a-846b-0adc0fe7a4b1",
     "integrationType": "postgresql",
     "type": "integration"
    }
   },
   "outputs": [
    {
     "data": {
      "application/com.datacamp.data-table.v2+json": {
       "table": {
        "data": {
         "avg_as": [
          72.38
         ],
         "avg_phq": [
          8.19
         ],
         "avg_scs": [
          37.47
         ],
         "index": [
          0
         ],
         "max_as": [
          145
         ],
         "max_phq": [
          25
         ],
         "max_scs": [
          48
         ],
         "min_as": [
          36
         ],
         "min_phq": [
          0
         ],
         "min_scs": [
          8
         ]
        },
        "schema": {
         "fields": [
          {
           "name": "index",
           "type": "integer"
          },
          {
           "name": "min_phq",
           "type": "integer"
          },
          {
           "name": "max_phq",
           "type": "integer"
          },
          {
           "name": "avg_phq",
           "type": "number"
          },
          {
           "name": "min_scs",
           "type": "integer"
          },
          {
           "name": "max_scs",
           "type": "integer"
          },
          {
           "name": "avg_scs",
           "type": "number"
          },
          {
           "name": "min_as",
           "type": "integer"
          },
          {
           "name": "max_as",
           "type": "integer"
          },
          {
           "name": "avg_as",
           "type": "number"
          }
         ],
         "pandas_version": "1.4.0",
         "primaryKey": [
          "index"
         ]
        }
       },
       "total_rows": 1,
       "truncation_type": null
      },
      "text/html": [
       "<div>\n",
       "<style scoped>\n",
       "    .dataframe tbody tr th:only-of-type {\n",
       "        vertical-align: middle;\n",
       "    }\n",
       "\n",
       "    .dataframe tbody tr th {\n",
       "        vertical-align: top;\n",
       "    }\n",
       "\n",
       "    .dataframe thead th {\n",
       "        text-align: right;\n",
       "    }\n",
       "</style>\n",
       "<table border=\"1\" class=\"dataframe\">\n",
       "  <thead>\n",
       "    <tr style=\"text-align: right;\">\n",
       "      <th></th>\n",
       "      <th>min_phq</th>\n",
       "      <th>max_phq</th>\n",
       "      <th>avg_phq</th>\n",
       "      <th>min_scs</th>\n",
       "      <th>max_scs</th>\n",
       "      <th>avg_scs</th>\n",
       "      <th>min_as</th>\n",
       "      <th>max_as</th>\n",
       "      <th>avg_as</th>\n",
       "    </tr>\n",
       "  </thead>\n",
       "  <tbody>\n",
       "    <tr>\n",
       "      <th>0</th>\n",
       "      <td>0</td>\n",
       "      <td>25</td>\n",
       "      <td>8.19</td>\n",
       "      <td>8</td>\n",
       "      <td>48</td>\n",
       "      <td>37.47</td>\n",
       "      <td>36</td>\n",
       "      <td>145</td>\n",
       "      <td>72.38</td>\n",
       "    </tr>\n",
       "  </tbody>\n",
       "</table>\n",
       "</div>"
      ],
      "text/plain": [
       "   min_phq  max_phq  avg_phq  min_scs  max_scs  avg_scs  min_as  max_as  avg_as\n",
       "0        0       25     8.19        8       48    37.47      36     145   72.38"
      ]
     },
     "execution_count": 6,
     "metadata": {},
     "output_type": "execute_result"
    }
   ],
   "source": [
    "-- Find out the basic summary statistics of the diagnostics tests for all the students\n",
    "SELECT MIN(ToDep) AS min_phq,\n",
    "       MAX(ToDep) AS max_phq,\n",
    "       ROUND(AVG(ToDep), 2) AS avg_phq,\n",
    "       MIN(ToSC) AS min_scs,\n",
    "       MAX(ToSC) AS max_scs,\n",
    "       ROUND(AVG(ToSC), 2) AS avg_scs,\n",
    "       MIN(ToAS) AS min_as,\n",
    "       MAX(ToAS) AS max_as,\n",
    "       ROUND(AVG(ToAS), 2) AS avg_as\n",
    "FROM students;"
   ]
  },
  {
   "cell_type": "markdown",
   "id": "38545567-24bd-4ddb-94f8-7e8ee5973dcb",
   "metadata": {},
   "source": [
    "7. WHat are the summary statistics for domestic students and international students?"
   ]
  },
  {
   "cell_type": "code",
   "execution_count": 1,
   "id": "19f3b15d-70ba-48cf-8818-cb66ca27eedd",
   "metadata": {
    "customType": "sql",
    "dataFrameVariableName": "df6",
    "executionCancelledAt": null,
    "executionTime": 1349,
    "lastExecutedAt": 1732249582362,
    "lastExecutedByKernel": "c67517d6-7411-4e0e-aeca-cb379896e3f1",
    "lastScheduledRunId": null,
    "lastSuccessfullyExecutedCode": "SELECT inter_dom,\n       MIN(ToDep) AS min_phq,\n       MAX(ToDep) AS max_phq,\n       ROUND(AVG(ToDep), 2) AS avg_phq,\n       MIN(ToSC) AS min_scs,\n       MAX(ToSC) AS max_scs,\n       ROUND(AVG(ToSC), 2) AS avg_scs,\n       MIN(ToAS) AS min_as,\n       MAX(ToAS) AS max_as,\n       ROUND(AVG(ToAS), 2) AS avg_as\nFROM students\nWHERE inter_dom IN ('Inter', 'Dom')\nGROUP BY inter_dom;",
    "outputsMetadata": {
     "0": {
      "height": 155,
      "type": "dataFrame"
     }
    },
    "sqlCellMode": "dataFrame",
    "sqlSource": {
     "integrationId": "89e17161-a224-4a8a-846b-0adc0fe7a4b1",
     "integrationType": "postgresql",
     "type": "integration"
    }
   },
   "outputs": [
    {
     "data": {
      "application/com.datacamp.data-table.v2+json": {
       "table": {
        "data": {
         "avg_as": [
          75.56,
          62.84
         ],
         "avg_phq": [
          8.04,
          8.61
         ],
         "avg_scs": [
          37.42,
          37.64
         ],
         "index": [
          0,
          1
         ],
         "inter_dom": [
          "Inter",
          "Dom"
         ],
         "max_as": [
          145,
          112
         ],
         "max_phq": [
          25,
          23
         ],
         "max_scs": [
          48,
          48
         ],
         "min_as": [
          36,
          36
         ],
         "min_phq": [
          0,
          0
         ],
         "min_scs": [
          11,
          8
         ]
        },
        "schema": {
         "fields": [
          {
           "name": "index",
           "type": "integer"
          },
          {
           "name": "inter_dom",
           "type": "string"
          },
          {
           "name": "min_phq",
           "type": "integer"
          },
          {
           "name": "max_phq",
           "type": "integer"
          },
          {
           "name": "avg_phq",
           "type": "number"
          },
          {
           "name": "min_scs",
           "type": "integer"
          },
          {
           "name": "max_scs",
           "type": "integer"
          },
          {
           "name": "avg_scs",
           "type": "number"
          },
          {
           "name": "min_as",
           "type": "integer"
          },
          {
           "name": "max_as",
           "type": "integer"
          },
          {
           "name": "avg_as",
           "type": "number"
          }
         ],
         "pandas_version": "1.4.0",
         "primaryKey": [
          "index"
         ]
        }
       },
       "total_rows": 2,
       "truncation_type": null
      },
      "text/html": [
       "<div>\n",
       "<style scoped>\n",
       "    .dataframe tbody tr th:only-of-type {\n",
       "        vertical-align: middle;\n",
       "    }\n",
       "\n",
       "    .dataframe tbody tr th {\n",
       "        vertical-align: top;\n",
       "    }\n",
       "\n",
       "    .dataframe thead th {\n",
       "        text-align: right;\n",
       "    }\n",
       "</style>\n",
       "<table border=\"1\" class=\"dataframe\">\n",
       "  <thead>\n",
       "    <tr style=\"text-align: right;\">\n",
       "      <th></th>\n",
       "      <th>inter_dom</th>\n",
       "      <th>min_phq</th>\n",
       "      <th>max_phq</th>\n",
       "      <th>avg_phq</th>\n",
       "      <th>min_scs</th>\n",
       "      <th>max_scs</th>\n",
       "      <th>avg_scs</th>\n",
       "      <th>min_as</th>\n",
       "      <th>max_as</th>\n",
       "      <th>avg_as</th>\n",
       "    </tr>\n",
       "  </thead>\n",
       "  <tbody>\n",
       "    <tr>\n",
       "      <th>0</th>\n",
       "      <td>Inter</td>\n",
       "      <td>0</td>\n",
       "      <td>25</td>\n",
       "      <td>8.04</td>\n",
       "      <td>11</td>\n",
       "      <td>48</td>\n",
       "      <td>37.42</td>\n",
       "      <td>36</td>\n",
       "      <td>145</td>\n",
       "      <td>75.56</td>\n",
       "    </tr>\n",
       "    <tr>\n",
       "      <th>1</th>\n",
       "      <td>Dom</td>\n",
       "      <td>0</td>\n",
       "      <td>23</td>\n",
       "      <td>8.61</td>\n",
       "      <td>8</td>\n",
       "      <td>48</td>\n",
       "      <td>37.64</td>\n",
       "      <td>36</td>\n",
       "      <td>112</td>\n",
       "      <td>62.84</td>\n",
       "    </tr>\n",
       "  </tbody>\n",
       "</table>\n",
       "</div>"
      ],
      "text/plain": [
       "  inter_dom  min_phq  max_phq  avg_phq  ...  avg_scs  min_as  max_as  avg_as\n",
       "0     Inter        0       25     8.04  ...    37.42      36     145   75.56\n",
       "1       Dom        0       23     8.61  ...    37.64      36     112   62.84\n",
       "\n",
       "[2 rows x 10 columns]"
      ]
     },
     "execution_count": 1,
     "metadata": {},
     "output_type": "execute_result"
    }
   ],
   "source": [
    "SELECT inter_dom,\n",
    "       MIN(ToDep) AS min_phq,\n",
    "       MAX(ToDep) AS max_phq,\n",
    "       ROUND(AVG(ToDep), 2) AS avg_phq,\n",
    "       MIN(ToSC) AS min_scs,\n",
    "       MAX(ToSC) AS max_scs,\n",
    "       ROUND(AVG(ToSC), 2) AS avg_scs,\n",
    "       MIN(ToAS) AS min_as,\n",
    "       MAX(ToAS) AS max_as,\n",
    "       ROUND(AVG(ToAS), 2) AS avg_as\n",
    "FROM students\n",
    "WHERE inter_dom IN ('Inter', 'Dom')\n",
    "GROUP BY inter_dom;"
   ]
  },
  {
   "cell_type": "markdown",
   "id": "865f13dd-4c9d-44eb-9f3c-74fbfe692d91",
   "metadata": {},
   "source": [
    "# Internation Focus\n",
    "\n",
    "The study found that international students presented a hagher risk of having mental health difficulties. Recall, the data is also skewed towards international students. Let's take a close look at the this student group"
   ]
  },
  {
   "cell_type": "markdown",
   "id": "d37f446a-c0ec-4d54-a0eb-ce0f54e5267b",
   "metadata": {},
   "source": [
    "8. How does the age of international student impact the scores?"
   ]
  },
  {
   "cell_type": "code",
   "execution_count": 3,
   "id": "836fd268-d46e-41fe-bd1a-6db248a2bc09",
   "metadata": {
    "customType": "sql",
    "dataFrameVariableName": "df7",
    "executionCancelledAt": null,
    "executionTime": 1011,
    "lastExecutedAt": 1732250108553,
    "lastExecutedByKernel": "c67517d6-7411-4e0e-aeca-cb379896e3f1",
    "lastScheduledRunId": null,
    "lastSuccessfullyExecutedCode": "-- The average score of each age group of international students in order\nSELECT age,\n\t    ROUND(AVG(ToDep), 2) AS avg_phq,\n\t\tROUND(AVG(ToSC), 2) AS avg_scs,\n\t\tROUND(AVG(ToAS), 2) AS avg_as\nFROM students\nWHERE inter_dom = 'Inter'\nGROUP BY age\nORDER BY age",
    "outputsMetadata": {
     "0": {
      "height": 474,
      "type": "dataFrame"
     }
    },
    "sqlCellMode": "dataFrame",
    "sqlSource": {
     "integrationId": "89e17161-a224-4a8a-846b-0adc0fe7a4b1",
     "integrationType": "postgresql",
     "type": "integration"
    }
   },
   "outputs": [
    {
     "data": {
      "application/com.datacamp.data-table.v2+json": {
       "table": {
        "data": {
         "age": [
          17,
          18,
          19,
          20,
          21,
          22,
          23,
          24,
          25,
          27,
          28,
          29,
          30,
          31
         ],
         "avg_as": [
          70.67,
          80.61,
          74.1,
          73.26,
          75.23,
          70.43,
          81.25,
          74.33,
          80.78,
          42,
          71,
          63.5,
          97.33,
          80.25
         ],
         "avg_phq": [
          4.67,
          8.75,
          8.44,
          7.35,
          9.23,
          8.36,
          9.67,
          4.67,
          6.11,
          10,
          3.33,
          3.75,
          9.33,
          5.75
         ],
         "avg_scs": [
          37.33,
          34.11,
          37.9,
          38.21,
          37.74,
          38.14,
          32,
          42.33,
          37.33,
          35,
          39,
          43,
          41,
          43.5
         ],
         "index": [
          0,
          1,
          2,
          3,
          4,
          5,
          6,
          7,
          8,
          9,
          10,
          11,
          12,
          13
         ]
        },
        "schema": {
         "fields": [
          {
           "name": "index",
           "type": "integer"
          },
          {
           "name": "age",
           "type": "integer"
          },
          {
           "name": "avg_phq",
           "type": "number"
          },
          {
           "name": "avg_scs",
           "type": "number"
          },
          {
           "name": "avg_as",
           "type": "number"
          }
         ],
         "pandas_version": "1.4.0",
         "primaryKey": [
          "index"
         ]
        }
       },
       "total_rows": 14,
       "truncation_type": null
      },
      "text/html": [
       "<div>\n",
       "<style scoped>\n",
       "    .dataframe tbody tr th:only-of-type {\n",
       "        vertical-align: middle;\n",
       "    }\n",
       "\n",
       "    .dataframe tbody tr th {\n",
       "        vertical-align: top;\n",
       "    }\n",
       "\n",
       "    .dataframe thead th {\n",
       "        text-align: right;\n",
       "    }\n",
       "</style>\n",
       "<table border=\"1\" class=\"dataframe\">\n",
       "  <thead>\n",
       "    <tr style=\"text-align: right;\">\n",
       "      <th></th>\n",
       "      <th>age</th>\n",
       "      <th>avg_phq</th>\n",
       "      <th>avg_scs</th>\n",
       "      <th>avg_as</th>\n",
       "    </tr>\n",
       "  </thead>\n",
       "  <tbody>\n",
       "    <tr>\n",
       "      <th>0</th>\n",
       "      <td>17</td>\n",
       "      <td>4.67</td>\n",
       "      <td>37.33</td>\n",
       "      <td>70.67</td>\n",
       "    </tr>\n",
       "    <tr>\n",
       "      <th>1</th>\n",
       "      <td>18</td>\n",
       "      <td>8.75</td>\n",
       "      <td>34.11</td>\n",
       "      <td>80.61</td>\n",
       "    </tr>\n",
       "    <tr>\n",
       "      <th>2</th>\n",
       "      <td>19</td>\n",
       "      <td>8.44</td>\n",
       "      <td>37.90</td>\n",
       "      <td>74.10</td>\n",
       "    </tr>\n",
       "    <tr>\n",
       "      <th>3</th>\n",
       "      <td>20</td>\n",
       "      <td>7.35</td>\n",
       "      <td>38.21</td>\n",
       "      <td>73.26</td>\n",
       "    </tr>\n",
       "    <tr>\n",
       "      <th>4</th>\n",
       "      <td>21</td>\n",
       "      <td>9.23</td>\n",
       "      <td>37.74</td>\n",
       "      <td>75.23</td>\n",
       "    </tr>\n",
       "    <tr>\n",
       "      <th>5</th>\n",
       "      <td>22</td>\n",
       "      <td>8.36</td>\n",
       "      <td>38.14</td>\n",
       "      <td>70.43</td>\n",
       "    </tr>\n",
       "    <tr>\n",
       "      <th>6</th>\n",
       "      <td>23</td>\n",
       "      <td>9.67</td>\n",
       "      <td>32.00</td>\n",
       "      <td>81.25</td>\n",
       "    </tr>\n",
       "    <tr>\n",
       "      <th>7</th>\n",
       "      <td>24</td>\n",
       "      <td>4.67</td>\n",
       "      <td>42.33</td>\n",
       "      <td>74.33</td>\n",
       "    </tr>\n",
       "    <tr>\n",
       "      <th>8</th>\n",
       "      <td>25</td>\n",
       "      <td>6.11</td>\n",
       "      <td>37.33</td>\n",
       "      <td>80.78</td>\n",
       "    </tr>\n",
       "    <tr>\n",
       "      <th>9</th>\n",
       "      <td>27</td>\n",
       "      <td>10.00</td>\n",
       "      <td>35.00</td>\n",
       "      <td>42.00</td>\n",
       "    </tr>\n",
       "    <tr>\n",
       "      <th>10</th>\n",
       "      <td>28</td>\n",
       "      <td>3.33</td>\n",
       "      <td>39.00</td>\n",
       "      <td>71.00</td>\n",
       "    </tr>\n",
       "    <tr>\n",
       "      <th>11</th>\n",
       "      <td>29</td>\n",
       "      <td>3.75</td>\n",
       "      <td>43.00</td>\n",
       "      <td>63.50</td>\n",
       "    </tr>\n",
       "    <tr>\n",
       "      <th>12</th>\n",
       "      <td>30</td>\n",
       "      <td>9.33</td>\n",
       "      <td>41.00</td>\n",
       "      <td>97.33</td>\n",
       "    </tr>\n",
       "    <tr>\n",
       "      <th>13</th>\n",
       "      <td>31</td>\n",
       "      <td>5.75</td>\n",
       "      <td>43.50</td>\n",
       "      <td>80.25</td>\n",
       "    </tr>\n",
       "  </tbody>\n",
       "</table>\n",
       "</div>"
      ],
      "text/plain": [
       "    age  avg_phq  avg_scs  avg_as\n",
       "0    17     4.67    37.33   70.67\n",
       "1    18     8.75    34.11   80.61\n",
       "2    19     8.44    37.90   74.10\n",
       "3    20     7.35    38.21   73.26\n",
       "4    21     9.23    37.74   75.23\n",
       "5    22     8.36    38.14   70.43\n",
       "6    23     9.67    32.00   81.25\n",
       "7    24     4.67    42.33   74.33\n",
       "8    25     6.11    37.33   80.78\n",
       "9    27    10.00    35.00   42.00\n",
       "10   28     3.33    39.00   71.00\n",
       "11   29     3.75    43.00   63.50\n",
       "12   30     9.33    41.00   97.33\n",
       "13   31     5.75    43.50   80.25"
      ]
     },
     "execution_count": 3,
     "metadata": {},
     "output_type": "execute_result"
    }
   ],
   "source": [
    "-- The average score of each age group of international students in order\n",
    "SELECT age,\n",
    "\t    ROUND(AVG(ToDep), 2) AS avg_phq,\n",
    "\t\tROUND(AVG(ToSC), 2) AS avg_scs,\n",
    "\t\tROUND(AVG(ToAS), 2) AS avg_as\n",
    "FROM students\n",
    "WHERE inter_dom = 'Inter'\n",
    "GROUP BY age\n",
    "ORDER BY age"
   ]
  },
  {
   "cell_type": "markdown",
   "id": "f9dd7e62-519b-47c5-b3f9-cb9043f8c80e",
   "metadata": {},
   "source": [
    "9. How does the gender of international student impact the scores?"
   ]
  },
  {
   "cell_type": "code",
   "execution_count": 6,
   "id": "05f2db4a-4b5b-4eea-88e8-c3da3c97cce4",
   "metadata": {
    "chartConfig": {
     "bar": {
      "hasRoundedCorners": true,
      "stacked": false
     },
     "type": "bar",
     "version": "v1",
     "x": {
      "field": "avg_phq",
      "type": "number"
     },
     "y": {
      "field": "avg_as",
      "type": "number"
     }
    },
    "customType": "sql",
    "dataFrameVariableName": "df8",
    "executionCancelledAt": null,
    "executionTime": 1056,
    "lastExecutedAt": 1732250612610,
    "lastExecutedByKernel": "c67517d6-7411-4e0e-aeca-cb379896e3f1",
    "lastScheduledRunId": null,
    "lastSuccessfullyExecutedCode": "-- The average score of each gender group of international students in order\nSELECT gender,\n\t    ROUND(AVG(ToDep), 2) AS avg_phq,\n\t\tROUND(AVG(ToSC), 2) AS avg_scs,\n\t\tROUND(AVG(ToAS), 2) AS avg_as\nFROM students\nWHERE inter_dom = 'Inter'\nGROUP BY gender\nORDER BY gender",
    "outputsMetadata": {
     "0": {
      "height": 138,
      "type": "dataFrame"
     }
    },
    "sqlCellMode": "dataFrame",
    "sqlSource": {
     "integrationId": "89e17161-a224-4a8a-846b-0adc0fe7a4b1",
     "integrationType": "postgresql",
     "type": "integration"
    },
    "visualizeDataframe": false
   },
   "outputs": [
    {
     "data": {
      "application/com.datacamp.data-table.v2+json": {
       "table": {
        "data": {
         "avg_as": [
          78.2,
          70.95
         ],
         "avg_phq": [
          8.37,
          7.48
         ],
         "avg_scs": [
          36.93,
          38.27
         ],
         "gender": [
          "Female",
          "Male"
         ],
         "index": [
          0,
          1
         ]
        },
        "schema": {
         "fields": [
          {
           "name": "index",
           "type": "integer"
          },
          {
           "name": "gender",
           "type": "string"
          },
          {
           "name": "avg_phq",
           "type": "number"
          },
          {
           "name": "avg_scs",
           "type": "number"
          },
          {
           "name": "avg_as",
           "type": "number"
          }
         ],
         "pandas_version": "1.4.0",
         "primaryKey": [
          "index"
         ]
        }
       },
       "total_rows": 2,
       "truncation_type": null
      },
      "text/html": [
       "<div>\n",
       "<style scoped>\n",
       "    .dataframe tbody tr th:only-of-type {\n",
       "        vertical-align: middle;\n",
       "    }\n",
       "\n",
       "    .dataframe tbody tr th {\n",
       "        vertical-align: top;\n",
       "    }\n",
       "\n",
       "    .dataframe thead th {\n",
       "        text-align: right;\n",
       "    }\n",
       "</style>\n",
       "<table border=\"1\" class=\"dataframe\">\n",
       "  <thead>\n",
       "    <tr style=\"text-align: right;\">\n",
       "      <th></th>\n",
       "      <th>gender</th>\n",
       "      <th>avg_phq</th>\n",
       "      <th>avg_scs</th>\n",
       "      <th>avg_as</th>\n",
       "    </tr>\n",
       "  </thead>\n",
       "  <tbody>\n",
       "    <tr>\n",
       "      <th>0</th>\n",
       "      <td>Female</td>\n",
       "      <td>8.37</td>\n",
       "      <td>36.93</td>\n",
       "      <td>78.20</td>\n",
       "    </tr>\n",
       "    <tr>\n",
       "      <th>1</th>\n",
       "      <td>Male</td>\n",
       "      <td>7.48</td>\n",
       "      <td>38.27</td>\n",
       "      <td>70.95</td>\n",
       "    </tr>\n",
       "  </tbody>\n",
       "</table>\n",
       "</div>"
      ],
      "text/plain": [
       "   gender  avg_phq  avg_scs  avg_as\n",
       "0  Female     8.37    36.93   78.20\n",
       "1    Male     7.48    38.27   70.95"
      ]
     },
     "execution_count": 6,
     "metadata": {},
     "output_type": "execute_result"
    }
   ],
   "source": [
    "-- The average score of each gender group of international students in order\n",
    "SELECT gender,\n",
    "\t    ROUND(AVG(ToDep), 2) AS avg_phq,\n",
    "\t\tROUND(AVG(ToSC), 2) AS avg_scs,\n",
    "\t\tROUND(AVG(ToAS), 2) AS avg_as\n",
    "FROM students\n",
    "WHERE inter_dom = 'Inter'\n",
    "GROUP BY gender\n",
    "ORDER BY gender"
   ]
  },
  {
   "cell_type": "markdown",
   "id": "d737fedd-4d6b-4f1b-85c8-d84ac2a83b9a",
   "metadata": {},
   "source": [
    "10. How does the the lengthof say for international student impact the scores?"
   ]
  },
  {
   "cell_type": "code",
   "execution_count": 7,
   "id": "a344311d-c5c7-4cdf-8e43-449cddd20a67",
   "metadata": {
    "chartConfig": {
     "bar": {
      "hasRoundedCorners": true,
      "stacked": false
     },
     "type": "bar",
     "version": "v1"
    },
    "collapsed": true,
    "customType": "sql",
    "dataFrameVariableName": "df9",
    "executionCancelledAt": null,
    "executionTime": 1000,
    "jupyter": {
     "outputs_hidden": true,
     "source_hidden": false
    },
    "lastExecutedAt": 1732250620573,
    "lastExecutedByKernel": "c67517d6-7411-4e0e-aeca-cb379896e3f1",
    "lastScheduledRunId": null,
    "lastSuccessfullyExecutedCode": "SELECT stay,\n\t    ROUND(AVG(ToDep), 2) AS avg_phq,\n\t\tROUND(AVG(ToSC), 2) AS avg_scs,\n\t\tROUND(AVG(ToAS), 2) AS avg_as\nFROM students\nWHERE inter_dom = 'Inter'\nGROUP BY stay\nORDER BY stay",
    "outputsMetadata": {
     "0": {
      "height": 334,
      "type": "dataFrame"
     }
    },
    "sqlCellMode": "dataFrame",
    "sqlSource": {
     "integrationId": "89e17161-a224-4a8a-846b-0adc0fe7a4b1",
     "integrationType": "postgresql",
     "type": "integration"
    },
    "visualizeDataframe": false
   },
   "outputs": [
    {
     "data": {
      "application/com.datacamp.data-table.v2+json": {
       "table": {
        "data": {
         "avg_as": [
          72.8,
          77.67,
          78,
          87.71,
          91,
          58.67,
          45,
          65,
          50
         ],
         "avg_phq": [
          7.48,
          8.28,
          9.09,
          8.57,
          0,
          6,
          4,
          10,
          13
         ],
         "avg_scs": [
          38.11,
          37.08,
          37.13,
          33.93,
          34,
          38,
          48,
          44,
          32
         ],
         "index": [
          0,
          1,
          2,
          3,
          4,
          5,
          6,
          7,
          8
         ],
         "stay": [
          1,
          2,
          3,
          4,
          5,
          6,
          7,
          8,
          10
         ]
        },
        "schema": {
         "fields": [
          {
           "name": "index",
           "type": "integer"
          },
          {
           "name": "stay",
           "type": "integer"
          },
          {
           "name": "avg_phq",
           "type": "number"
          },
          {
           "name": "avg_scs",
           "type": "number"
          },
          {
           "name": "avg_as",
           "type": "number"
          }
         ],
         "pandas_version": "1.4.0",
         "primaryKey": [
          "index"
         ]
        }
       },
       "total_rows": 9,
       "truncation_type": null
      },
      "text/html": [
       "<div>\n",
       "<style scoped>\n",
       "    .dataframe tbody tr th:only-of-type {\n",
       "        vertical-align: middle;\n",
       "    }\n",
       "\n",
       "    .dataframe tbody tr th {\n",
       "        vertical-align: top;\n",
       "    }\n",
       "\n",
       "    .dataframe thead th {\n",
       "        text-align: right;\n",
       "    }\n",
       "</style>\n",
       "<table border=\"1\" class=\"dataframe\">\n",
       "  <thead>\n",
       "    <tr style=\"text-align: right;\">\n",
       "      <th></th>\n",
       "      <th>stay</th>\n",
       "      <th>avg_phq</th>\n",
       "      <th>avg_scs</th>\n",
       "      <th>avg_as</th>\n",
       "    </tr>\n",
       "  </thead>\n",
       "  <tbody>\n",
       "    <tr>\n",
       "      <th>0</th>\n",
       "      <td>1</td>\n",
       "      <td>7.48</td>\n",
       "      <td>38.11</td>\n",
       "      <td>72.80</td>\n",
       "    </tr>\n",
       "    <tr>\n",
       "      <th>1</th>\n",
       "      <td>2</td>\n",
       "      <td>8.28</td>\n",
       "      <td>37.08</td>\n",
       "      <td>77.67</td>\n",
       "    </tr>\n",
       "    <tr>\n",
       "      <th>2</th>\n",
       "      <td>3</td>\n",
       "      <td>9.09</td>\n",
       "      <td>37.13</td>\n",
       "      <td>78.00</td>\n",
       "    </tr>\n",
       "    <tr>\n",
       "      <th>3</th>\n",
       "      <td>4</td>\n",
       "      <td>8.57</td>\n",
       "      <td>33.93</td>\n",
       "      <td>87.71</td>\n",
       "    </tr>\n",
       "    <tr>\n",
       "      <th>4</th>\n",
       "      <td>5</td>\n",
       "      <td>0.00</td>\n",
       "      <td>34.00</td>\n",
       "      <td>91.00</td>\n",
       "    </tr>\n",
       "    <tr>\n",
       "      <th>5</th>\n",
       "      <td>6</td>\n",
       "      <td>6.00</td>\n",
       "      <td>38.00</td>\n",
       "      <td>58.67</td>\n",
       "    </tr>\n",
       "    <tr>\n",
       "      <th>6</th>\n",
       "      <td>7</td>\n",
       "      <td>4.00</td>\n",
       "      <td>48.00</td>\n",
       "      <td>45.00</td>\n",
       "    </tr>\n",
       "    <tr>\n",
       "      <th>7</th>\n",
       "      <td>8</td>\n",
       "      <td>10.00</td>\n",
       "      <td>44.00</td>\n",
       "      <td>65.00</td>\n",
       "    </tr>\n",
       "    <tr>\n",
       "      <th>8</th>\n",
       "      <td>10</td>\n",
       "      <td>13.00</td>\n",
       "      <td>32.00</td>\n",
       "      <td>50.00</td>\n",
       "    </tr>\n",
       "  </tbody>\n",
       "</table>\n",
       "</div>"
      ],
      "text/plain": [
       "   stay  avg_phq  avg_scs  avg_as\n",
       "0     1     7.48    38.11   72.80\n",
       "1     2     8.28    37.08   77.67\n",
       "2     3     9.09    37.13   78.00\n",
       "3     4     8.57    33.93   87.71\n",
       "4     5     0.00    34.00   91.00\n",
       "5     6     6.00    38.00   58.67\n",
       "6     7     4.00    48.00   45.00\n",
       "7     8    10.00    44.00   65.00\n",
       "8    10    13.00    32.00   50.00"
      ]
     },
     "execution_count": 7,
     "metadata": {},
     "output_type": "execute_result"
    }
   ],
   "source": [
    "SELECT stay,\n",
    "\t    ROUND(AVG(ToDep), 2) AS avg_phq,\n",
    "\t\tROUND(AVG(ToSC), 2) AS avg_scs,\n",
    "\t\tROUND(AVG(ToAS), 2) AS avg_as\n",
    "FROM students\n",
    "WHERE inter_dom = 'Inter'\n",
    "GROUP BY stay\n",
    "ORDER BY stay"
   ]
  },
  {
   "cell_type": "markdown",
   "id": "96e9dbb0-40b6-47dc-8647-75834381373e",
   "metadata": {},
   "source": [
    "Explore and analyze the students data to see how the length of stay (stay) impacts the average mental health diagnostic scores of the international students present in the study.\n",
    "\n",
    "Return a table with nine rows and five columns.\n",
    "\n",
    "The five columns should be aliased as: stay, count_int, average_phq, average_scs, and average_as, in that order.\n",
    "\n",
    "The average columns should contain the average of the todep (PHQ-9 test), tosc (SCS test), and toas (ASISS test) columns for each length of stay, rounded to two decimal places.\n",
    "\n",
    "The count_int column should be the number of international students for each length of stay.\n",
    "\n",
    "Sort the results by the length of stay in descending order."
   ]
  },
  {
   "cell_type": "code",
   "execution_count": 8,
   "id": "ab01f727-3ae9-491a-bf8b-6d507e7dbf15",
   "metadata": {
    "collapsed": false,
    "customType": "sql",
    "dataFrameVariableName": "df",
    "executionCancelledAt": null,
    "executionTime": 928,
    "jupyter": {
     "outputs_hidden": false,
     "source_hidden": false
    },
    "lastExecutedAt": 1732211388959,
    "lastExecutedByKernel": "3fab4447-226c-4f94-b1df-6f03af1d27fa",
    "lastScheduledRunId": null,
    "lastSuccessfullyExecutedCode": "SELECT \n\tstay, \n\tCOUNT(*) as count_int, \n\tROUND(AVG(todep), 2) as average_phq, \n\tROUND(AVG(tosc), 2) as average_scs, \n\tROUND(AVG(toas), 2) as average_as\nFROM students\nWHERE inter_dom = 'Inter'\nGROUP BY stay\nORDER BY stay DESC",
    "outputsMetadata": {
     "0": {
      "height": 351,
      "type": "dataFrame"
     }
    },
    "sqlCellMode": "dataFrame",
    "sqlSource": {
     "integrationId": "89e17161-a224-4a8a-846b-0adc0fe7a4b1",
     "integrationType": "postgresql",
     "type": "integration"
    }
   },
   "outputs": [
    {
     "data": {
      "application/com.datacamp.data-table.v2+json": {
       "table": {
        "data": {
         "average_as": [
          50,
          65,
          45,
          58.67,
          91,
          87.71,
          78,
          77.67,
          72.8
         ],
         "average_phq": [
          13,
          10,
          4,
          6,
          0,
          8.57,
          9.09,
          8.28,
          7.48
         ],
         "average_scs": [
          32,
          44,
          48,
          38,
          34,
          33.93,
          37.13,
          37.08,
          38.11
         ],
         "count_int": [
          1,
          1,
          1,
          3,
          1,
          14,
          46,
          39,
          95
         ],
         "index": [
          0,
          1,
          2,
          3,
          4,
          5,
          6,
          7,
          8
         ],
         "stay": [
          10,
          8,
          7,
          6,
          5,
          4,
          3,
          2,
          1
         ]
        },
        "schema": {
         "fields": [
          {
           "name": "index",
           "type": "integer"
          },
          {
           "name": "stay",
           "type": "integer"
          },
          {
           "name": "count_int",
           "type": "integer"
          },
          {
           "name": "average_phq",
           "type": "number"
          },
          {
           "name": "average_scs",
           "type": "number"
          },
          {
           "name": "average_as",
           "type": "number"
          }
         ],
         "pandas_version": "1.4.0",
         "primaryKey": [
          "index"
         ]
        }
       },
       "total_rows": 9,
       "truncation_type": null
      },
      "text/html": [
       "<div>\n",
       "<style scoped>\n",
       "    .dataframe tbody tr th:only-of-type {\n",
       "        vertical-align: middle;\n",
       "    }\n",
       "\n",
       "    .dataframe tbody tr th {\n",
       "        vertical-align: top;\n",
       "    }\n",
       "\n",
       "    .dataframe thead th {\n",
       "        text-align: right;\n",
       "    }\n",
       "</style>\n",
       "<table border=\"1\" class=\"dataframe\">\n",
       "  <thead>\n",
       "    <tr style=\"text-align: right;\">\n",
       "      <th></th>\n",
       "      <th>stay</th>\n",
       "      <th>count_int</th>\n",
       "      <th>average_phq</th>\n",
       "      <th>average_scs</th>\n",
       "      <th>average_as</th>\n",
       "    </tr>\n",
       "  </thead>\n",
       "  <tbody>\n",
       "    <tr>\n",
       "      <th>0</th>\n",
       "      <td>10</td>\n",
       "      <td>1</td>\n",
       "      <td>13.00</td>\n",
       "      <td>32.00</td>\n",
       "      <td>50.00</td>\n",
       "    </tr>\n",
       "    <tr>\n",
       "      <th>1</th>\n",
       "      <td>8</td>\n",
       "      <td>1</td>\n",
       "      <td>10.00</td>\n",
       "      <td>44.00</td>\n",
       "      <td>65.00</td>\n",
       "    </tr>\n",
       "    <tr>\n",
       "      <th>2</th>\n",
       "      <td>7</td>\n",
       "      <td>1</td>\n",
       "      <td>4.00</td>\n",
       "      <td>48.00</td>\n",
       "      <td>45.00</td>\n",
       "    </tr>\n",
       "    <tr>\n",
       "      <th>3</th>\n",
       "      <td>6</td>\n",
       "      <td>3</td>\n",
       "      <td>6.00</td>\n",
       "      <td>38.00</td>\n",
       "      <td>58.67</td>\n",
       "    </tr>\n",
       "    <tr>\n",
       "      <th>4</th>\n",
       "      <td>5</td>\n",
       "      <td>1</td>\n",
       "      <td>0.00</td>\n",
       "      <td>34.00</td>\n",
       "      <td>91.00</td>\n",
       "    </tr>\n",
       "    <tr>\n",
       "      <th>5</th>\n",
       "      <td>4</td>\n",
       "      <td>14</td>\n",
       "      <td>8.57</td>\n",
       "      <td>33.93</td>\n",
       "      <td>87.71</td>\n",
       "    </tr>\n",
       "    <tr>\n",
       "      <th>6</th>\n",
       "      <td>3</td>\n",
       "      <td>46</td>\n",
       "      <td>9.09</td>\n",
       "      <td>37.13</td>\n",
       "      <td>78.00</td>\n",
       "    </tr>\n",
       "    <tr>\n",
       "      <th>7</th>\n",
       "      <td>2</td>\n",
       "      <td>39</td>\n",
       "      <td>8.28</td>\n",
       "      <td>37.08</td>\n",
       "      <td>77.67</td>\n",
       "    </tr>\n",
       "    <tr>\n",
       "      <th>8</th>\n",
       "      <td>1</td>\n",
       "      <td>95</td>\n",
       "      <td>7.48</td>\n",
       "      <td>38.11</td>\n",
       "      <td>72.80</td>\n",
       "    </tr>\n",
       "  </tbody>\n",
       "</table>\n",
       "</div>"
      ],
      "text/plain": [
       "   stay  count_int  average_phq  average_scs  average_as\n",
       "0    10          1        13.00        32.00       50.00\n",
       "1     8          1        10.00        44.00       65.00\n",
       "2     7          1         4.00        48.00       45.00\n",
       "3     6          3         6.00        38.00       58.67\n",
       "4     5          1         0.00        34.00       91.00\n",
       "5     4         14         8.57        33.93       87.71\n",
       "6     3         46         9.09        37.13       78.00\n",
       "7     2         39         8.28        37.08       77.67\n",
       "8     1         95         7.48        38.11       72.80"
      ]
     },
     "execution_count": 8,
     "metadata": {},
     "output_type": "execute_result"
    }
   ],
   "source": [
    "SELECT \n",
    "\tstay, \n",
    "\tCOUNT(*) as count_int, \n",
    "\tROUND(AVG(todep), 2) as average_phq, \n",
    "\tROUND(AVG(tosc), 2) as average_scs, \n",
    "\tROUND(AVG(toas), 2) as average_as\n",
    "FROM students\n",
    "WHERE inter_dom = 'Inter'\n",
    "GROUP BY stay\n",
    "ORDER BY stay DESC"
   ]
  }
 ],
 "metadata": {
  "colab": {
   "name": "Welcome to DataCamp Workspaces.ipynb",
   "provenance": []
  },
  "kernelspec": {
   "display_name": "Python 3 (ipykernel)",
   "language": "python",
   "name": "python3"
  },
  "language_info": {
   "codemirror_mode": {
    "name": "ipython",
    "version": 3
   },
   "file_extension": ".py",
   "mimetype": "text/x-python",
   "name": "python",
   "nbconvert_exporter": "python",
   "pygments_lexer": "ipython3",
   "version": "3.8.10"
  }
 },
 "nbformat": 4,
 "nbformat_minor": 5
}
